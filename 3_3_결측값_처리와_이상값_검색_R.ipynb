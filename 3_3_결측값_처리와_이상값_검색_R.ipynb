{
  "nbformat": 4,
  "nbformat_minor": 0,
  "metadata": {
    "colab": {
      "name": "3-3. 결측값 처리와 이상값 검색.R",
      "provenance": [],
      "authorship_tag": "ABX9TyMhBY/a9YovWdGiWo6vtZ4T",
      "include_colab_link": true
    },
    "kernelspec": {
      "name": "ir",
      "display_name": "R"
    },
    "language_info": {
      "name": "R"
    }
  },
  "cells": [
    {
      "cell_type": "markdown",
      "metadata": {
        "id": "view-in-github",
        "colab_type": "text"
      },
      "source": [
        "<a href=\"https://colab.research.google.com/github/chohu-boraaaa/ADsP/blob/main/3_3_%EA%B2%B0%EC%B8%A1%EA%B0%92_%EC%B2%98%EB%A6%AC%EC%99%80_%EC%9D%B4%EC%83%81%EA%B0%92_%EA%B2%80%EC%83%89_R.ipynb\" target=\"_parent\"><img src=\"https://colab.research.google.com/assets/colab-badge.svg\" alt=\"Open In Colab\"/></a>"
      ]
    },
    {
      "cell_type": "markdown",
      "metadata": {
        "id": "UZKp8JMoB4cQ"
      },
      "source": [
        "# 결측값 처리와 이상값 검색"
      ]
    },
    {
      "cell_type": "markdown",
      "metadata": {
        "id": "-0ojFp_OCAOn"
      },
      "source": [
        "## 결측 데이터\n",
        "* 결측값 : 누락된 데이터 및 비어있는 데이터\n",
        "* 분류 : 완전 무작위 결측, 무작위 결측, 비 무작위 결측\n"
      ]
    },
    {
      "cell_type": "markdown",
      "metadata": {
        "id": "lgxI2AloCNR9"
      },
      "source": [
        "### 완전 무작위 결측(MCAR; Missing Completely at Random)\n",
        "* 변수 상에 발생한 결측값이 다른 변수들과 전혀 관계가 없는 경우\n",
        "* 결측값은 대부분 완전 무작위 결측으로 가정하고 결측값 처리\n",
        "* 일반적인 경우 사람들의 실수에 의해 발생하는 입력 누락 or 프로그램 오류에 의해 발생"
      ]
    },
    {
      "cell_type": "markdown",
      "metadata": {
        "id": "JQKVW_ruCeMo"
      },
      "source": [
        "### 무작위 결측(MAR; Missing at Random)\n",
        "* 누락된 데이터가 특정 변수와 관련이 있지만 그 변수의 결과는 관계가 없는 경우\n",
        "* 누락이 있는 변수로 설명 가능"
      ]
    },
    {
      "cell_type": "markdown",
      "metadata": {
        "id": "iK-POs_yCugW"
      },
      "source": [
        "### 비 무작위 결측(MNAR; Missing Not at Random)\n",
        "* 누락된 변수 결과가 다른 변수와 관련이 있는 경우"
      ]
    },
    {
      "cell_type": "markdown",
      "metadata": {
        "id": "HJvF3rhDC9jg"
      },
      "source": [
        "## 결측값 처리방법"
      ]
    },
    {
      "cell_type": "markdown",
      "metadata": {
        "id": "GVbGxH2jDBGV"
      },
      "source": [
        "### 명시적 모형에 의한 대체\n",
        "* 각 변수들이 특정 확률분포를 따른다고 가정한 후에 분포의 모수들을 추정하여 대체\n",
        "* 평균 대체, 중앙값 대체, 확률 대체, 비율 대체, 회귀 대체, 확률적 회귀 대체, 분포를 가정한 대체 방법"
      ]
    },
    {
      "cell_type": "markdown",
      "metadata": {
        "id": "7mAddtnnDN1H"
      },
      "source": [
        "### 내재적 모형에 의한 대체\n",
        "* 각 변수들이 특정 확률분포를 따른다고 가정하지 않고 가능한 정확한 값을 가지고 대체\n",
        "* 핫덱 대체, 콜드덱 대체, 대입 기법"
      ]
    },
    {
      "cell_type": "markdown",
      "metadata": {
        "id": "2W8qFc2XD0_U"
      },
      "source": [
        "#### 핫덱 대체\n",
        "- 데이터 내의 응답 값을 사용해서 결측값 대체\n",
        "- 표본 조사의 결측값 대체하기 위해서 사용\n",
        "\n",
        "#### 콜드덱 대체\n",
        "* 결측 값을 외부출처(유사한 다른 조사)에서 가져온 값으로 대체\n",
        "* 동일한 조사 자료가 아닌 다른 조사의 값으로 대체"
      ]
    },
    {
      "cell_type": "markdown",
      "metadata": {
        "id": "kOWbGGXUD1sc"
      },
      "source": [
        "### 혼합된 대체\n",
        "* 명시적 모형 대체와 내재적 모형 대체를 혼합\n",
        "* 처리 방법 (결측값 비율 기준)\n",
        "> 10% 미만 -> 어떤 방법으로든 결측값을 제거, 10% 이상 20% 미만 -> 핫덱, Regression, Model based method, 20% 이상 -> Regression, Model based method\n",
        "\n",
        "\n",
        "\n",
        "\n",
        "\n"
      ]
    },
    {
      "cell_type": "markdown",
      "metadata": {
        "id": "t8z-5mamEva7"
      },
      "source": [
        "## R을 사용한 결측값 확인"
      ]
    },
    {
      "cell_type": "code",
      "metadata": {
        "colab": {
          "base_uri": "https://localhost:8080/",
          "height": 267
        },
        "id": "zJwkAQ5-E1e7",
        "outputId": "980c7c50-5411-46e7-bdfc-bbf4f6631c1b"
      },
      "source": [
        "# R Data frame 생성\n",
        "data <- data.frame(sex=c(\"M\", \"F\", NA, \"M\", \"F\"), score=c(4, 5, 3, 2, NA))\n",
        "data"
      ],
      "execution_count": 8,
      "outputs": [
        {
          "output_type": "display_data",
          "data": {
            "text/plain": [
              "  sex score\n",
              "1 M    4   \n",
              "2 F    5   \n",
              "3 NA   3   \n",
              "4 M    2   \n",
              "5 F   NA   "
            ],
            "text/latex": "A data.frame: 5 × 2\n\\begin{tabular}{ll}\n sex & score\\\\\n <chr> & <dbl>\\\\\n\\hline\n\t M  &  4\\\\\n\t F  &  5\\\\\n\t NA &  3\\\\\n\t M  &  2\\\\\n\t F  & NA\\\\\n\\end{tabular}\n",
            "text/markdown": "\nA data.frame: 5 × 2\n\n| sex &lt;chr&gt; | score &lt;dbl&gt; |\n|---|---|\n| M  |  4 |\n| F  |  5 |\n| NA |  3 |\n| M  |  2 |\n| F  | NA |\n\n",
            "text/html": [
              "<table class=\"dataframe\">\n",
              "<caption>A data.frame: 5 × 2</caption>\n",
              "<thead>\n",
              "\t<tr><th scope=col>sex</th><th scope=col>score</th></tr>\n",
              "\t<tr><th scope=col>&lt;chr&gt;</th><th scope=col>&lt;dbl&gt;</th></tr>\n",
              "</thead>\n",
              "<tbody>\n",
              "\t<tr><td>M </td><td> 4</td></tr>\n",
              "\t<tr><td>F </td><td> 5</td></tr>\n",
              "\t<tr><td>NA</td><td> 3</td></tr>\n",
              "\t<tr><td>M </td><td> 2</td></tr>\n",
              "\t<tr><td>F </td><td>NA</td></tr>\n",
              "</tbody>\n",
              "</table>\n"
            ]
          },
          "metadata": {
            "tags": []
          }
        }
      ]
    },
    {
      "cell_type": "code",
      "metadata": {
        "colab": {
          "base_uri": "https://localhost:8080/",
          "height": 290
        },
        "id": "739Kc2kzE_Jl",
        "outputId": "27994f36-17bb-4d01-e46c-f501612086c8"
      },
      "source": [
        "# Check Missing Value\n",
        "is.na(data)\n",
        "table(is.na(data))"
      ],
      "execution_count": 2,
      "outputs": [
        {
          "output_type": "display_data",
          "data": {
            "text/plain": [
              "     sex   score\n",
              "[1,] FALSE FALSE\n",
              "[2,] FALSE FALSE\n",
              "[3,]  TRUE FALSE\n",
              "[4,] FALSE FALSE\n",
              "[5,] FALSE  TRUE"
            ],
            "text/latex": "A matrix: 5 × 2 of type lgl\n\\begin{tabular}{ll}\n sex & score\\\\\n\\hline\n\t FALSE & FALSE\\\\\n\t FALSE & FALSE\\\\\n\t  TRUE & FALSE\\\\\n\t FALSE & FALSE\\\\\n\t FALSE &  TRUE\\\\\n\\end{tabular}\n",
            "text/markdown": "\nA matrix: 5 × 2 of type lgl\n\n| sex | score |\n|---|---|\n| FALSE | FALSE |\n| FALSE | FALSE |\n|  TRUE | FALSE |\n| FALSE | FALSE |\n| FALSE |  TRUE |\n\n",
            "text/html": [
              "<table class=\"dataframe\">\n",
              "<caption>A matrix: 5 × 2 of type lgl</caption>\n",
              "<thead>\n",
              "\t<tr><th scope=col>sex</th><th scope=col>score</th></tr>\n",
              "</thead>\n",
              "<tbody>\n",
              "\t<tr><td>FALSE</td><td>FALSE</td></tr>\n",
              "\t<tr><td>FALSE</td><td>FALSE</td></tr>\n",
              "\t<tr><td> TRUE</td><td>FALSE</td></tr>\n",
              "\t<tr><td>FALSE</td><td>FALSE</td></tr>\n",
              "\t<tr><td>FALSE</td><td> TRUE</td></tr>\n",
              "</tbody>\n",
              "</table>\n"
            ]
          },
          "metadata": {
            "tags": []
          }
        },
        {
          "output_type": "display_data",
          "data": {
            "text/plain": [
              "\n",
              "FALSE  TRUE \n",
              "    8     2 "
            ]
          },
          "metadata": {
            "tags": []
          }
        }
      ]
    },
    {
      "cell_type": "markdown",
      "metadata": {
        "id": "0T5gzUIrFQI-"
      },
      "source": [
        "### 결측값 제거"
      ]
    },
    {
      "cell_type": "markdown",
      "metadata": {
        "id": "m9_iybbkFSaQ"
      },
      "source": [
        "#### 단일변수 결측값 제거\n",
        "* R에서 결측값 제거를 위해 \"dplyr\" 패키지를 설치하고 library() 함수로 패키지를 로드해야 함"
      ]
    },
    {
      "cell_type": "code",
      "metadata": {
        "colab": {
          "base_uri": "https://localhost:8080/"
        },
        "id": "rj07DvJoFHbA",
        "outputId": "b84e4731-eb89-4523-85e0-b6fbadeacbaf"
      },
      "source": [
        "install.packages(\"dplyr\")\n",
        "library(\"dplyr\")"
      ],
      "execution_count": 7,
      "outputs": [
        {
          "output_type": "stream",
          "text": [
            "Installing package into ‘/usr/local/lib/R/site-library’\n",
            "(as ‘lib’ is unspecified)\n",
            "\n"
          ],
          "name": "stderr"
        }
      ]
    },
    {
      "cell_type": "code",
      "metadata": {
        "colab": {
          "base_uri": "https://localhost:8080/",
          "height": 144
        },
        "id": "cC1yPcHMFn2t",
        "outputId": "2a91dc7d-b7ac-45d1-a39d-60f4998f98a7"
      },
      "source": [
        "# filter() 함수를 사용해서 결측값 데이터를 조회하고 결측값 데이터를 제거\n",
        "data %>% filter(is.na(score))"
      ],
      "execution_count": 9,
      "outputs": [
        {
          "output_type": "display_data",
          "data": {
            "text/plain": [
              "  sex score\n",
              "1 F   NA   "
            ],
            "text/latex": "A data.frame: 1 × 2\n\\begin{tabular}{ll}\n sex & score\\\\\n <chr> & <dbl>\\\\\n\\hline\n\t F & NA\\\\\n\\end{tabular}\n",
            "text/markdown": "\nA data.frame: 1 × 2\n\n| sex &lt;chr&gt; | score &lt;dbl&gt; |\n|---|---|\n| F | NA |\n\n",
            "text/html": [
              "<table class=\"dataframe\">\n",
              "<caption>A data.frame: 1 × 2</caption>\n",
              "<thead>\n",
              "\t<tr><th scope=col>sex</th><th scope=col>score</th></tr>\n",
              "\t<tr><th scope=col>&lt;chr&gt;</th><th scope=col>&lt;dbl&gt;</th></tr>\n",
              "</thead>\n",
              "<tbody>\n",
              "\t<tr><td>F</td><td>NA</td></tr>\n",
              "</tbody>\n",
              "</table>\n"
            ]
          },
          "metadata": {
            "tags": []
          }
        }
      ]
    },
    {
      "cell_type": "code",
      "metadata": {
        "colab": {
          "base_uri": "https://localhost:8080/",
          "height": 237
        },
        "id": "0ij8Qp1gF88H",
        "outputId": "6c30f8aa-10fe-4534-d8f4-9d776969d3a4"
      },
      "source": [
        "data %>% filter(!is.na(score))"
      ],
      "execution_count": 10,
      "outputs": [
        {
          "output_type": "display_data",
          "data": {
            "text/plain": [
              "  sex score\n",
              "1 M   4    \n",
              "2 F   5    \n",
              "3 NA  3    \n",
              "4 M   2    "
            ],
            "text/latex": "A data.frame: 4 × 2\n\\begin{tabular}{ll}\n sex & score\\\\\n <chr> & <dbl>\\\\\n\\hline\n\t M  & 4\\\\\n\t F  & 5\\\\\n\t NA & 3\\\\\n\t M  & 2\\\\\n\\end{tabular}\n",
            "text/markdown": "\nA data.frame: 4 × 2\n\n| sex &lt;chr&gt; | score &lt;dbl&gt; |\n|---|---|\n| M  | 4 |\n| F  | 5 |\n| NA | 3 |\n| M  | 2 |\n\n",
            "text/html": [
              "<table class=\"dataframe\">\n",
              "<caption>A data.frame: 4 × 2</caption>\n",
              "<thead>\n",
              "\t<tr><th scope=col>sex</th><th scope=col>score</th></tr>\n",
              "\t<tr><th scope=col>&lt;chr&gt;</th><th scope=col>&lt;dbl&gt;</th></tr>\n",
              "</thead>\n",
              "<tbody>\n",
              "\t<tr><td>M </td><td>4</td></tr>\n",
              "\t<tr><td>F </td><td>5</td></tr>\n",
              "\t<tr><td>NA</td><td>3</td></tr>\n",
              "\t<tr><td>M </td><td>2</td></tr>\n",
              "</tbody>\n",
              "</table>\n"
            ]
          },
          "metadata": {
            "tags": []
          }
        }
      ]
    },
    {
      "cell_type": "code",
      "metadata": {
        "colab": {
          "base_uri": "https://localhost:8080/",
          "height": 34
        },
        "id": "84l-kCeIGB_P",
        "outputId": "67a6bb62-133f-46b5-ff5b-376d5b2aede9"
      },
      "source": [
        "# 결측치 제거 후 평균 산출\n",
        "data_nomiss <- data %>% filter(!is.na(score))\n",
        "mean(data_nomiss$score)"
      ],
      "execution_count": 11,
      "outputs": [
        {
          "output_type": "display_data",
          "data": {
            "text/plain": [
              "[1] 3.5"
            ],
            "text/latex": "3.5",
            "text/markdown": "3.5",
            "text/html": [
              "3.5"
            ]
          },
          "metadata": {
            "tags": []
          }
        }
      ]
    },
    {
      "cell_type": "markdown",
      "metadata": {
        "id": "ZkltsxYcQ6Vv"
      },
      "source": [
        "#### N개 변수 결측값 제거\n",
        "* 결측값이 여러 개의 변수에 있는 경우 is.na() 함수를 AND(&) 조합을 사용해서 결측값 제거 가능\n",
        "* na.omit() 함수는 모든 결측값을 한번에 제거 가능"
      ]
    },
    {
      "cell_type": "code",
      "metadata": {
        "colab": {
          "base_uri": "https://localhost:8080/",
          "height": 206
        },
        "id": "9qyhklT9Qa9o",
        "outputId": "de8705cb-3d47-4eb1-f416-8227a66cc306"
      },
      "source": [
        "# N개의 변수의 결측치 제거\n",
        "data_nomiss <- data %>% filter(!is.na(score)& !is.na(sex))\n",
        "data_nomiss"
      ],
      "execution_count": 12,
      "outputs": [
        {
          "output_type": "display_data",
          "data": {
            "text/plain": [
              "  sex score\n",
              "1 M   4    \n",
              "2 F   5    \n",
              "3 M   2    "
            ],
            "text/latex": "A data.frame: 3 × 2\n\\begin{tabular}{ll}\n sex & score\\\\\n <chr> & <dbl>\\\\\n\\hline\n\t M & 4\\\\\n\t F & 5\\\\\n\t M & 2\\\\\n\\end{tabular}\n",
            "text/markdown": "\nA data.frame: 3 × 2\n\n| sex &lt;chr&gt; | score &lt;dbl&gt; |\n|---|---|\n| M | 4 |\n| F | 5 |\n| M | 2 |\n\n",
            "text/html": [
              "<table class=\"dataframe\">\n",
              "<caption>A data.frame: 3 × 2</caption>\n",
              "<thead>\n",
              "\t<tr><th scope=col>sex</th><th scope=col>score</th></tr>\n",
              "\t<tr><th scope=col>&lt;chr&gt;</th><th scope=col>&lt;dbl&gt;</th></tr>\n",
              "</thead>\n",
              "<tbody>\n",
              "\t<tr><td>M</td><td>4</td></tr>\n",
              "\t<tr><td>F</td><td>5</td></tr>\n",
              "\t<tr><td>M</td><td>2</td></tr>\n",
              "</tbody>\n",
              "</table>\n"
            ]
          },
          "metadata": {
            "tags": []
          }
        }
      ]
    },
    {
      "cell_type": "code",
      "metadata": {
        "colab": {
          "base_uri": "https://localhost:8080/",
          "height": 189
        },
        "id": "p8aNVFHGRS4H",
        "outputId": "241efd2d-802c-4f73-fe73-ad0c9bc7c71c"
      },
      "source": [
        "# 결측치를 모두 한번에 제거\n",
        "data_nomiss <- na.omit(data)\n",
        "data_nomiss"
      ],
      "execution_count": 13,
      "outputs": [
        {
          "output_type": "display_data",
          "data": {
            "text/plain": [
              "  sex score\n",
              "1 M   4    \n",
              "2 F   5    \n",
              "4 M   2    "
            ],
            "text/latex": "A data.frame: 3 × 2\n\\begin{tabular}{r|ll}\n  & sex & score\\\\\n  & <chr> & <dbl>\\\\\n\\hline\n\t1 & M & 4\\\\\n\t2 & F & 5\\\\\n\t4 & M & 2\\\\\n\\end{tabular}\n",
            "text/markdown": "\nA data.frame: 3 × 2\n\n| <!--/--> | sex &lt;chr&gt; | score &lt;dbl&gt; |\n|---|---|---|\n| 1 | M | 4 |\n| 2 | F | 5 |\n| 4 | M | 2 |\n\n",
            "text/html": [
              "<table class=\"dataframe\">\n",
              "<caption>A data.frame: 3 × 2</caption>\n",
              "<thead>\n",
              "\t<tr><th></th><th scope=col>sex</th><th scope=col>score</th></tr>\n",
              "\t<tr><th></th><th scope=col>&lt;chr&gt;</th><th scope=col>&lt;dbl&gt;</th></tr>\n",
              "</thead>\n",
              "<tbody>\n",
              "\t<tr><th scope=row>1</th><td>M</td><td>4</td></tr>\n",
              "\t<tr><th scope=row>2</th><td>F</td><td>5</td></tr>\n",
              "\t<tr><th scope=row>4</th><td>M</td><td>2</td></tr>\n",
              "</tbody>\n",
              "</table>\n"
            ]
          },
          "metadata": {
            "tags": []
          }
        }
      ]
    },
    {
      "cell_type": "markdown",
      "metadata": {
        "id": "lSHhcOQsRbZk"
      },
      "source": [
        "#### 평균값으로 결측값을 대체\n",
        "* mean() 함수를 사용할 때 \"na.rm=T\" 옵션을 주면 결측값을 제외하고 평균 계산함"
      ]
    },
    {
      "cell_type": "code",
      "metadata": {
        "colab": {
          "base_uri": "https://localhost:8080/",
          "height": 34
        },
        "id": "5vFoBpDMRZwC",
        "outputId": "cf0cb90b-044a-474c-b75d-f07340124e27"
      },
      "source": [
        "# na.rm=T 옵션은 결측치를 제거하고 평균을 계산\n",
        "x = mean(data$score, na.rm=T)\n",
        "x"
      ],
      "execution_count": 15,
      "outputs": [
        {
          "output_type": "display_data",
          "data": {
            "text/plain": [
              "[1] 3.5"
            ],
            "text/latex": "3.5",
            "text/markdown": "3.5",
            "text/html": [
              "3.5"
            ]
          },
          "metadata": {
            "tags": []
          }
        }
      ]
    },
    {
      "cell_type": "code",
      "metadata": {
        "colab": {
          "base_uri": "https://localhost:8080/",
          "height": 267
        },
        "id": "_EGLH-awR05S",
        "outputId": "c5d1961b-3a45-4847-d4cb-21cd4b7a10f0"
      },
      "source": [
        "# 만약 score 값이 NA이면 x(평균)으로 대체\n",
        "x = mean(data$score, na.rm=T)\n",
        "data$score <- ifelse(is.na(data$score), x, data$score)\n",
        "data"
      ],
      "execution_count": 18,
      "outputs": [
        {
          "output_type": "display_data",
          "data": {
            "text/plain": [
              "  sex score\n",
              "1 M   4.0  \n",
              "2 F   5.0  \n",
              "3 NA  3.0  \n",
              "4 M   2.0  \n",
              "5 F   3.5  "
            ],
            "text/latex": "A data.frame: 5 × 2\n\\begin{tabular}{ll}\n sex & score\\\\\n <chr> & <dbl>\\\\\n\\hline\n\t M  & 4.0\\\\\n\t F  & 5.0\\\\\n\t NA & 3.0\\\\\n\t M  & 2.0\\\\\n\t F  & 3.5\\\\\n\\end{tabular}\n",
            "text/markdown": "\nA data.frame: 5 × 2\n\n| sex &lt;chr&gt; | score &lt;dbl&gt; |\n|---|---|\n| M  | 4.0 |\n| F  | 5.0 |\n| NA | 3.0 |\n| M  | 2.0 |\n| F  | 3.5 |\n\n",
            "text/html": [
              "<table class=\"dataframe\">\n",
              "<caption>A data.frame: 5 × 2</caption>\n",
              "<thead>\n",
              "\t<tr><th scope=col>sex</th><th scope=col>score</th></tr>\n",
              "\t<tr><th scope=col>&lt;chr&gt;</th><th scope=col>&lt;dbl&gt;</th></tr>\n",
              "</thead>\n",
              "<tbody>\n",
              "\t<tr><td>M </td><td>4.0</td></tr>\n",
              "\t<tr><td>F </td><td>5.0</td></tr>\n",
              "\t<tr><td>NA</td><td>3.0</td></tr>\n",
              "\t<tr><td>M </td><td>2.0</td></tr>\n",
              "\t<tr><td>F </td><td>3.5</td></tr>\n",
              "</tbody>\n",
              "</table>\n"
            ]
          },
          "metadata": {
            "tags": []
          }
        }
      ]
    },
    {
      "cell_type": "markdown",
      "metadata": {
        "id": "_SDXQkB_SHcY"
      },
      "source": [
        "## 데이터 이상값\n",
        "\n",
        "* 관측된 데이터의 범위에서 벗어나는 아주 큰 값 혹은 아주 작은 값 의미\n",
        "* 이상값은 데이터를 분석하는데 영향을 미치므로 제거해야 함"
      ]
    },
    {
      "cell_type": "code",
      "metadata": {
        "colab": {
          "base_uri": "https://localhost:8080/",
          "height": 437
        },
        "id": "Lxt_wGxhR-vk",
        "outputId": "343015d3-c4ec-4974-9f7c-b0ea4a61a264"
      },
      "source": [
        "# 극단적인 값 확인\n",
        "test = c(1, 500, 550, 400, 590, 600)\n",
        "boxplot(test)"
      ],
      "execution_count": 19,
      "outputs": [
        {
          "output_type": "display_data",
          "data": {
            "image/png": "[encoded data removed]",
            "text/plain": [
              "plot without title"
            ]
          },
          "metadata": {
            "tags": [],
            "image/png": {
              "width": 420,
              "height": 420
            }
          }
        }
      ]
    },
    {
      "cell_type": "code",
      "metadata": {
        "colab": {
          "base_uri": "https://localhost:8080/",
          "height": 34
        },
        "id": "1KtzckX1SUVx",
        "outputId": "6a5fd15e-afe1-4504-8f54-e1fa70dfa1a9"
      },
      "source": [
        "# 특정 범위의 값으로 test 생성\n",
        "test <- ifelse(test>=500 & test<=600, test, NA)\n",
        "test"
      ],
      "execution_count": 20,
      "outputs": [
        {
          "output_type": "display_data",
          "data": {
            "text/plain": [
              "[1]  NA 500 550  NA 590 600"
            ],
            "text/latex": "\\begin{enumerate*}\n\\item <NA>\n\\item 500\n\\item 550\n\\item <NA>\n\\item 590\n\\item 600\n\\end{enumerate*}\n",
            "text/markdown": "1. &lt;NA&gt;\n2. 500\n3. 550\n4. &lt;NA&gt;\n5. 590\n6. 600\n\n\n",
            "text/html": [
              "<style>\n",
              ".list-inline {list-style: none; margin:0; padding: 0}\n",
              ".list-inline>li {display: inline-block}\n",
              ".list-inline>li:not(:last-child)::after {content: \"\\00b7\"; padding: 0 .5ex}\n",
              "</style>\n",
              "<ol class=list-inline><li>&lt;NA&gt;</li><li>500</li><li>550</li><li>&lt;NA&gt;</li><li>590</li><li>600</li></ol>\n"
            ]
          },
          "metadata": {
            "tags": []
          }
        }
      ]
    },
    {
      "cell_type": "code",
      "metadata": {
        "colab": {
          "base_uri": "https://localhost:8080/",
          "height": 437
        },
        "id": "aIGxAeujSown",
        "outputId": "1d34a6dc-9c7f-452f-9d10-715c06b8daee"
      },
      "source": [
        "# 결측치 제거하고 boxplot 그리기\n",
        "boxplot(test, na.rm=T)"
      ],
      "execution_count": 21,
      "outputs": [
        {
          "output_type": "display_data",
          "data": {
            "image/png": "[encoded data removed]",
            "text/plain": [
              "plot without title"
            ]
          },
          "metadata": {
            "tags": [],
            "image/png": {
              "width": 420,
              "height": 420
            }
          }
        }
      ]
    },
    {
      "cell_type": "markdown",
      "metadata": {
        "id": "8eu6yx1SSwjO"
      },
      "source": [
        "###### 사분위수\n",
        "* 0사분위수(Q0) : 최소값\n",
        "* 1사분위수(Q1) : 최소값 ~ 25%번째 값\n",
        "* 2사분위수(Q2) : 중앙값\n",
        "* 3사분위수(Q3) : 중앙값 ~ 75%번째 값\n",
        "* 4사분위수(Q4) : 최대값"
      ]
    }
  ]
}