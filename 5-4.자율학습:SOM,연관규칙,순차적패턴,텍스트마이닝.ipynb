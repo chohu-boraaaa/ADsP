{
  "nbformat": 4,
  "nbformat_minor": 0,
  "metadata": {
    "colab": {
      "name": "5-4. 자율학습:SOM,연관규칙,순차적패턴,텍스트마이닝",
      "provenance": [],
      "authorship_tag": "ABX9TyMW4Mi/lNfso8B2SRNZBx7b",
      "include_colab_link": true
    },
    "kernelspec": {
      "name": "ir",
      "display_name": "R"
    },
    "language_info": {
      "name": "R"
    }
  },
  "cells": [
    {
      "cell_type": "markdown",
      "metadata": {
        "id": "view-in-github",
        "colab_type": "text"
      },
      "source": [
        "<a href=\"https://colab.research.google.com/github/chohu-boraaaa/ADsP/blob/main/5-4.%EC%9E%90%EC%9C%A8%ED%95%99%EC%8A%B5%3ASOM%2C%EC%97%B0%EA%B4%80%EA%B7%9C%EC%B9%99%2C%EC%88%9C%EC%B0%A8%EC%A0%81%ED%8C%A8%ED%84%B4%2C%ED%85%8D%EC%8A%A4%ED%8A%B8%EB%A7%88%EC%9D%B4%EB%8B%9D.ipynb\" target=\"_parent\"><img src=\"https://colab.research.google.com/assets/colab-badge.svg\" alt=\"Open In Colab\"/></a>"
      ]
    },
    {
      "cell_type": "code",
      "metadata": {
        "colab": {
          "base_uri": "https://localhost:8080/"
        },
        "id": "Z6RdDnv6PQyD",
        "outputId": "f03791f9-5ce0-409c-f0a5-69dab51ed745"
      },
      "source": [
        "install.packages(\"extrafont\")\n",
        "library(extrafont) ## 잊지마세요 package 불러오기!\n",
        "font_import()"
      ],
      "execution_count": 1,
      "outputs": [
        {
          "output_type": "stream",
          "text": [
            "Installing package into ‘/usr/local/lib/R/site-library’\n",
            "(as ‘lib’ is unspecified)\n",
            "\n",
            "Registering fonts with R\n",
            "\n"
          ],
          "name": "stderr"
        },
        {
          "output_type": "stream",
          "text": [
            "Importing fonts may take a few minutes, depending on the number of fonts and the speed of the system.\n",
            "Continue? [y/n] y\n"
          ],
          "name": "stdout"
        },
        {
          "output_type": "stream",
          "text": [
            "Scanning ttf files in /usr/share/fonts/ ...\n",
            "\n",
            "Extracting .afm files from .ttf files...\n",
            "\n",
            "/usr/share/fonts/truetype/humor-sans/Humor-Sans.ttf\n",
            "Warning message in system2(ttf2pt1, c(args, shQuote(ttfiles[i]), shQuote(tmpfiles[i])), :\n",
            "“running command ''/usr/local/lib/R/site-library/Rttf2pt1/exec//ttf2pt1' -a -GfAe '/usr/share/fonts/truetype/humor-sans/Humor-Sans.ttf' '/tmp/Rtmpoj1pI8/fonts/Humor-Sans' 2>&1' had status 139”\n",
            " : No FontName. Skipping.\n",
            "\n",
            "/usr/share/fonts/truetype/liberation/LiberationMono-Bold.ttf\n",
            "Warning message in system2(ttf2pt1, c(args, shQuote(ttfiles[i]), shQuote(tmpfiles[i])), :\n",
            "“running command ''/usr/local/lib/R/site-library/Rttf2pt1/exec//ttf2pt1' -a -GfAe '/usr/share/fonts/truetype/liberation/LiberationMono-Bold.ttf' '/tmp/Rtmpoj1pI8/fonts/LiberationMono-Bold' 2>&1' had status 139”\n",
            " : No FontName. Skipping.\n",
            "\n",
            "/usr/share/fonts/truetype/liberation/LiberationMono-BoldItalic.ttf\n",
            "Warning message in system2(ttf2pt1, c(args, shQuote(ttfiles[i]), shQuote(tmpfiles[i])), :\n",
            "“running command ''/usr/local/lib/R/site-library/Rttf2pt1/exec//ttf2pt1' -a -GfAe '/usr/share/fonts/truetype/liberation/LiberationMono-BoldItalic.ttf' '/tmp/Rtmpoj1pI8/fonts/LiberationMono-BoldItalic' 2>&1' had status 139”\n",
            " : No FontName. Skipping.\n",
            "\n",
            "/usr/share/fonts/truetype/liberation/LiberationMono-Italic.ttf\n",
            "Warning message in system2(ttf2pt1, c(args, shQuote(ttfiles[i]), shQuote(tmpfiles[i])), :\n",
            "“running command ''/usr/local/lib/R/site-library/Rttf2pt1/exec//ttf2pt1' -a -GfAe '/usr/share/fonts/truetype/liberation/LiberationMono-Italic.ttf' '/tmp/Rtmpoj1pI8/fonts/LiberationMono-Italic' 2>&1' had status 139”\n",
            " : No FontName. Skipping.\n",
            "\n",
            "/usr/share/fonts/truetype/liberation/LiberationMono-Regular.ttf\n",
            "Warning message in system2(ttf2pt1, c(args, shQuote(ttfiles[i]), shQuote(tmpfiles[i])), :\n",
            "“running command ''/usr/local/lib/R/site-library/Rttf2pt1/exec//ttf2pt1' -a -GfAe '/usr/share/fonts/truetype/liberation/LiberationMono-Regular.ttf' '/tmp/Rtmpoj1pI8/fonts/LiberationMono-Regular' 2>&1' had status 139”\n",
            " : No FontName. Skipping.\n",
            "\n",
            "/usr/share/fonts/truetype/liberation/LiberationSans-Bold.ttf\n",
            "Warning message in system2(ttf2pt1, c(args, shQuote(ttfiles[i]), shQuote(tmpfiles[i])), :\n",
            "“running command ''/usr/local/lib/R/site-library/Rttf2pt1/exec//ttf2pt1' -a -GfAe '/usr/share/fonts/truetype/liberation/LiberationSans-Bold.ttf' '/tmp/Rtmpoj1pI8/fonts/LiberationSans-Bold' 2>&1' had status 139”\n",
            " : No FontName. Skipping.\n",
            "\n",
            "/usr/share/fonts/truetype/liberation/LiberationSans-BoldItalic.ttf\n",
            "Warning message in system2(ttf2pt1, c(args, shQuote(ttfiles[i]), shQuote(tmpfiles[i])), :\n",
            "“running command ''/usr/local/lib/R/site-library/Rttf2pt1/exec//ttf2pt1' -a -GfAe '/usr/share/fonts/truetype/liberation/LiberationSans-BoldItalic.ttf' '/tmp/Rtmpoj1pI8/fonts/LiberationSans-BoldItalic' 2>&1' had status 139”\n",
            " : No FontName. Skipping.\n",
            "\n",
            "/usr/share/fonts/truetype/liberation/LiberationSans-Italic.ttf\n",
            "Warning message in system2(ttf2pt1, c(args, shQuote(ttfiles[i]), shQuote(tmpfiles[i])), :\n",
            "“running command ''/usr/local/lib/R/site-library/Rttf2pt1/exec//ttf2pt1' -a -GfAe '/usr/share/fonts/truetype/liberation/LiberationSans-Italic.ttf' '/tmp/Rtmpoj1pI8/fonts/LiberationSans-Italic' 2>&1' had status 139”\n",
            " : No FontName. Skipping.\n",
            "\n",
            "/usr/share/fonts/truetype/liberation/LiberationSans-Regular.ttf\n",
            "Warning message in system2(ttf2pt1, c(args, shQuote(ttfiles[i]), shQuote(tmpfiles[i])), :\n",
            "“running command ''/usr/local/lib/R/site-library/Rttf2pt1/exec//ttf2pt1' -a -GfAe '/usr/share/fonts/truetype/liberation/LiberationSans-Regular.ttf' '/tmp/Rtmpoj1pI8/fonts/LiberationSans-Regular' 2>&1' had status 139”\n",
            " : No FontName. Skipping.\n",
            "\n",
            "/usr/share/fonts/truetype/liberation/LiberationSansNarrow-Bold.ttf\n",
            "Warning message in system2(ttf2pt1, c(args, shQuote(ttfiles[i]), shQuote(tmpfiles[i])), :\n",
            "“running command ''/usr/local/lib/R/site-library/Rttf2pt1/exec//ttf2pt1' -a -GfAe '/usr/share/fonts/truetype/liberation/LiberationSansNarrow-Bold.ttf' '/tmp/Rtmpoj1pI8/fonts/LiberationSansNarrow-Bold' 2>&1' had status 139”\n",
            " : No FontName. Skipping.\n",
            "\n",
            "/usr/share/fonts/truetype/liberation/LiberationSansNarrow-BoldItalic.ttf\n",
            "Warning message in system2(ttf2pt1, c(args, shQuote(ttfiles[i]), shQuote(tmpfiles[i])), :\n",
            "“running command ''/usr/local/lib/R/site-library/Rttf2pt1/exec//ttf2pt1' -a -GfAe '/usr/share/fonts/truetype/liberation/LiberationSansNarrow-BoldItalic.ttf' '/tmp/Rtmpoj1pI8/fonts/LiberationSansNarrow-BoldItalic' 2>&1' had status 139”\n",
            " : No FontName. Skipping.\n",
            "\n",
            "/usr/share/fonts/truetype/liberation/LiberationSansNarrow-Italic.ttf\n",
            "Warning message in system2(ttf2pt1, c(args, shQuote(ttfiles[i]), shQuote(tmpfiles[i])), :\n",
            "“running command ''/usr/local/lib/R/site-library/Rttf2pt1/exec//ttf2pt1' -a -GfAe '/usr/share/fonts/truetype/liberation/LiberationSansNarrow-Italic.ttf' '/tmp/Rtmpoj1pI8/fonts/LiberationSansNarrow-Italic' 2>&1' had status 139”\n",
            " : No FontName. Skipping.\n",
            "\n",
            "/usr/share/fonts/truetype/liberation/LiberationSansNarrow-Regular.ttf\n",
            "Warning message in system2(ttf2pt1, c(args, shQuote(ttfiles[i]), shQuote(tmpfiles[i])), :\n",
            "“running command ''/usr/local/lib/R/site-library/Rttf2pt1/exec//ttf2pt1' -a -GfAe '/usr/share/fonts/truetype/liberation/LiberationSansNarrow-Regular.ttf' '/tmp/Rtmpoj1pI8/fonts/LiberationSansNarrow-Regular' 2>&1' had status 139”\n",
            " : No FontName. Skipping.\n",
            "\n",
            "/usr/share/fonts/truetype/liberation/LiberationSerif-Bold.ttf\n",
            "Warning message in system2(ttf2pt1, c(args, shQuote(ttfiles[i]), shQuote(tmpfiles[i])), :\n",
            "“running command ''/usr/local/lib/R/site-library/Rttf2pt1/exec//ttf2pt1' -a -GfAe '/usr/share/fonts/truetype/liberation/LiberationSerif-Bold.ttf' '/tmp/Rtmpoj1pI8/fonts/LiberationSerif-Bold' 2>&1' had status 139”\n",
            " : No FontName. Skipping.\n",
            "\n",
            "/usr/share/fonts/truetype/liberation/LiberationSerif-BoldItalic.ttf\n",
            "Warning message in system2(ttf2pt1, c(args, shQuote(ttfiles[i]), shQuote(tmpfiles[i])), :\n",
            "“running command ''/usr/local/lib/R/site-library/Rttf2pt1/exec//ttf2pt1' -a -GfAe '/usr/share/fonts/truetype/liberation/LiberationSerif-BoldItalic.ttf' '/tmp/Rtmpoj1pI8/fonts/LiberationSerif-BoldItalic' 2>&1' had status 139”\n",
            " : No FontName. Skipping.\n",
            "\n",
            "/usr/share/fonts/truetype/liberation/LiberationSerif-Italic.ttf\n",
            "Warning message in system2(ttf2pt1, c(args, shQuote(ttfiles[i]), shQuote(tmpfiles[i])), :\n",
            "“running command ''/usr/local/lib/R/site-library/Rttf2pt1/exec//ttf2pt1' -a -GfAe '/usr/share/fonts/truetype/liberation/LiberationSerif-Italic.ttf' '/tmp/Rtmpoj1pI8/fonts/LiberationSerif-Italic' 2>&1' had status 139”\n",
            " : No FontName. Skipping.\n",
            "\n",
            "/usr/share/fonts/truetype/liberation/LiberationSerif-Regular.ttf\n",
            "Warning message in system2(ttf2pt1, c(args, shQuote(ttfiles[i]), shQuote(tmpfiles[i])), :\n",
            "“running command ''/usr/local/lib/R/site-library/Rttf2pt1/exec//ttf2pt1' -a -GfAe '/usr/share/fonts/truetype/liberation/LiberationSerif-Regular.ttf' '/tmp/Rtmpoj1pI8/fonts/LiberationSerif-Regular' 2>&1' had status 139”\n",
            " : No FontName. Skipping.\n",
            "\n",
            "Found FontName for 0 fonts.\n",
            "\n",
            "Scanning afm files in /usr/local/lib/R/site-library/extrafontdb/metrics\n",
            "\n"
          ],
          "name": "stderr"
        }
      ]
    },
    {
      "cell_type": "markdown",
      "metadata": {
        "id": "u6u1EJUHCfIU"
      },
      "source": [
        "### 4. SOM(Self Organizing Map)\n",
        "\n",
        "#### 4-1. SOM\n",
        "- 코호넨에 의해서 개발된 것으로 자기조직화 네트워크 기법\n",
        "- 군집분석 시에 신경망 분석을 수행하는 방법 거리 값은 유클리드의 거리 수식을 사용한다\n",
        "- 신경망과 K-means 기법의 특징을 모두 가지고 있음\n",
        "\n",
        "#### 4-2. SOM 특징\n",
        "- 데이터 간에 잘 구분되지 않은 상관관계를 확인할 수 있다.\n",
        "- 자율학습으로 군집화 수행\n",
        "- 신경망에서 사용하는 Back-propagation 과정이 없다.\n",
        "- Back-propagtion 과정이 없어서 수행 속도가 빠르다.\n",
        "\n",
        "### 5. 연관규칙\n",
        "- 대용량 데이터베이스에 발생하는 데이터를 분석하여 각 거래 간 상호 관련성을 분석하는 방법\n",
        "- 규칙기반 머신러닝 기법으로 데이터베이스에서 발생하는 강력한 규칙을 식별\n",
        "- 특정 사건들은 동시에 발생한다는 패턴에 대해 상호관련성을 분석하는 방법으로 연관규칙은 원인과 결과의 직접적인 인과관계가 아니다.\n",
        "- 장바구니 분석, 친화성 분석에 이용됨\n",
        "- 각 변수들 간에 발생하는 빈도수를 파악하여 연관성 분석\n",
        "\n",
        "#### 5-1. 연관규칙 활용\n",
        "|활용분야|내용|\n",
        "|--------|----|\n",
        "|보험사기 적발|보험금 지급청구 시에 보험사기 여부를 확인하기 위해서 연관성 분석 수행|\n",
        "|상품진열|맥주와 기저귀 사례로 의도적으로 맥주와 기저귀를 같이 진열하거나 </br>고객의 동선을 길게 하기 위해서 맥주와 기저귀를 멀리 한다.|\n",
        "|교차판매|2+1, 1+1과 같은 행사를 통해 특정 상품을 묶어서 판매|\n",
        "\n",
        "#### 5-2. Apriori 알고리즘\n",
        "- 가장 많이 사용하는 연관규칙 알고리즘\n",
        "- Apriori 알고리즘을 개선한 것으로 AprioriTID, ApriorHybrid, DHP 등이 있다.\n",
        "- 빈도 수를 분석하여 높은 빈도를 가지는 조합을 찾음\n",
        "- 조합의 수가 증가하면 모든 조합을 생성해야 하므로 계산시간 증가\n",
        "- 최소 지지도 값을 설정하여 빈도 수가 높은 항목들의 집합들을 도출\n",
        "- 지지도를 사용해서 다음 단계로 후보군 설정\n",
        "\n",
        "##### ✅ Apriori 알고리즘 과정 및 가지치기(Pruning)\n",
        "![Apriori 알고리즘 과정 및 가지치기](https://img1.daumcdn.net/thumb/R720x0.q80/?scode=mtistory2&fname=http%3A%2F%2Fcfile24.uf.tistory.com%2Fimage%2F2218A544573FC1770578F1)\n",
        "\n",
        "출처 : https://rfriend.tistory.com/192\n",
        "\n",
        "- 각 변수들의 빈도 수를 파악하여 지지도가 2 이하인 것을 삭제\n",
        "- 2개, 3개 변수들을 계속 조합하고 지지도가 2 이하인 것을 삭제하여 최종 후보군을 만든다.\n",
        "\n",
        "#### 5-3. 연관규칙 측정방법\n",
        "\n",
        "##### 1> 지지도(Support)\n",
        "- 두 항목 X와 Y의 지지도는 전체 거래 중에서 항목집합 X와 Y를 포함한 거래 건수의 비율\n",
        "- 지지도를 사용해서 불필요한 연산을 줄이기 위해 가지치기의 기준으로 사용됨\n",
        "\n",
        "##### 2> 신뢰도(Confidence)\n",
        "- 조건부 확률로 항목집합 X를 포함하는 거래 중에서 Y를 포함하고 있는 거래의 비율\n",
        "- 신뢰도가 높으면 연관성이 높다. 즉, 두 항목 X->Y에서 항목 Y의 확률이 커야 연관규칙에 의미가 있다.\n",
        "\n",
        "##### 3> 향상도(Lift)\n",
        "- 항목 X를 구매한 경우 그 거래가 항목 Y를 포함하는 경우와 항목 Y가 임의로 구매되는 경우의 비를 나타냄\n",
        "- 항목 X와 Y는 독립적이지만 서로 성관성이 있는지 확인\n",
        "- 1보다 큰 값이어야 유용한 정보라고 할 수 있다.\n",
        "\n",
        "|향상도|내용|\n",
        "|------|----|\n",
        "|1|두 항목의 거래 발생이 독립적인 관계|\n",
        "|<1|두 항목의 거래 발생이 음(-)의 상관관계|\n",
        "|>1|두 항목의 거래 발생이 양(+)의 상관관계|\n",
        "\n",
        "![지지도신뢰도향상도](https://cjlee38.github.io/assets/images/2020-08-30-22-19-25_datamining_1.md.png)\n",
        "\n",
        "출처 : https://cjlee38.github.io/data-mining/association_rule_with_java\n",
        "\n",
        "##### 4> 연관규칙 분석을 위한 데이터 구조\n",
        "- 연관규칙 분석을 위해서는 데이터를 트랜잭션 데이터로 변환하고 트랜잭션 데이터를 다시 동시발생 행렬로 변환하여 각 항목별로 빈도 수를 계산해야 한다.\n",
        "\n",
        "##### 5> R을 사용한 연관규칙 분석"
      ]
    },
    {
      "cell_type": "code",
      "metadata": {
        "colab": {
          "base_uri": "https://localhost:8080/"
        },
        "id": "FWcqr1aNK5bp",
        "outputId": "6369c757-44b4-4ffd-b34f-c221ef5b4e66"
      },
      "source": [
        "install.packages(\"arules\")"
      ],
      "execution_count": 3,
      "outputs": [
        {
          "output_type": "stream",
          "text": [
            "Installing package into ‘/usr/local/lib/R/site-library’\n",
            "(as ‘lib’ is unspecified)\n",
            "\n"
          ],
          "name": "stderr"
        }
      ]
    },
    {
      "cell_type": "code",
      "metadata": {
        "colab": {
          "base_uri": "https://localhost:8080/"
        },
        "id": "Yt7XGOJ0Lc8Y",
        "outputId": "61a52c12-ceef-46d4-b096-551fc372e988"
      },
      "source": [
        "library(arules)"
      ],
      "execution_count": 2,
      "outputs": [
        {
          "output_type": "stream",
          "text": [
            "Loading required package: Matrix\n",
            "\n",
            "\n",
            "Attaching package: ‘arules’\n",
            "\n",
            "\n",
            "The following objects are masked from ‘package:base’:\n",
            "\n",
            "    abbreviate, write\n",
            "\n",
            "\n"
          ],
          "name": "stderr"
        }
      ]
    },
    {
      "cell_type": "code",
      "metadata": {
        "colab": {
          "base_uri": "https://localhost:8080/",
          "height": 1000
        },
        "id": "Kz3g2DkBMh3f",
        "outputId": "2f5acac2-3a61-4d4e-9c2c-8261b8540020"
      },
      "source": [
        "m <- read.csv(\"market.csv\", header=TRUE)\n",
        "m"
      ],
      "execution_count": 3,
      "outputs": [
        {
          "output_type": "display_data",
          "data": {
            "text/plain": [
              "   ID Item      \n",
              "1   1 홈런볼    \n",
              "2   1 맥주      \n",
              "3   1 커피      \n",
              "4   1 우유      \n",
              "5   1 사이다    \n",
              "6   2 오렌지주스\n",
              "7   2 콜라      \n",
              "8   2 파워에이드\n",
              "9   3 맥주      \n",
              "10  3 사이다    \n",
              "11  4 오렌지주스\n",
              "12  4 콜라      \n",
              "13  4 홈런볼    \n",
              "14  5 오렌지주스\n",
              "15  5 콜라      \n",
              "16  5 홈런볼    \n",
              "17  6 오렌지주스\n",
              "18  6 콜라      \n",
              "19  6 홈런볼    \n",
              "20  7 커피      \n",
              "21  7 꿀짱구    \n",
              "22  8 오렌지주스\n",
              "23  8 콜라      \n",
              "24  9 오렌지주스\n",
              "25  9 콜라      \n",
              "26  9 홈런볼    \n",
              "27 10 홈런볼    \n",
              "28 10 LOTR      \n",
              "29 10 오렌지    \n",
              "30 10 우유      "
            ],
            "text/latex": "A data.frame: 30 × 2\n\\begin{tabular}{ll}\n ID & Item\\\\\n <int> & <chr>\\\\\n\\hline\n\t  1 & 홈런볼    \\\\\n\t  1 & 맥주      \\\\\n\t  1 & 커피      \\\\\n\t  1 & 우유      \\\\\n\t  1 & 사이다    \\\\\n\t  2 & 오렌지주스\\\\\n\t  2 & 콜라      \\\\\n\t  2 & 파워에이드\\\\\n\t  3 & 맥주      \\\\\n\t  3 & 사이다    \\\\\n\t  4 & 오렌지주스\\\\\n\t  4 & 콜라      \\\\\n\t  4 & 홈런볼    \\\\\n\t  5 & 오렌지주스\\\\\n\t  5 & 콜라      \\\\\n\t  5 & 홈런볼    \\\\\n\t  6 & 오렌지주스\\\\\n\t  6 & 콜라      \\\\\n\t  6 & 홈런볼    \\\\\n\t  7 & 커피      \\\\\n\t  7 & 꿀짱구    \\\\\n\t  8 & 오렌지주스\\\\\n\t  8 & 콜라      \\\\\n\t  9 & 오렌지주스\\\\\n\t  9 & 콜라      \\\\\n\t  9 & 홈런볼    \\\\\n\t 10 & 홈런볼    \\\\\n\t 10 & LOTR      \\\\\n\t 10 & 오렌지    \\\\\n\t 10 & 우유      \\\\\n\\end{tabular}\n",
            "text/markdown": "\nA data.frame: 30 × 2\n\n| ID &lt;int&gt; | Item &lt;chr&gt; |\n|---|---|\n|  1 | 홈런볼     |\n|  1 | 맥주       |\n|  1 | 커피       |\n|  1 | 우유       |\n|  1 | 사이다     |\n|  2 | 오렌지주스 |\n|  2 | 콜라       |\n|  2 | 파워에이드 |\n|  3 | 맥주       |\n|  3 | 사이다     |\n|  4 | 오렌지주스 |\n|  4 | 콜라       |\n|  4 | 홈런볼     |\n|  5 | 오렌지주스 |\n|  5 | 콜라       |\n|  5 | 홈런볼     |\n|  6 | 오렌지주스 |\n|  6 | 콜라       |\n|  6 | 홈런볼     |\n|  7 | 커피       |\n|  7 | 꿀짱구     |\n|  8 | 오렌지주스 |\n|  8 | 콜라       |\n|  9 | 오렌지주스 |\n|  9 | 콜라       |\n|  9 | 홈런볼     |\n| 10 | 홈런볼     |\n| 10 | LOTR       |\n| 10 | 오렌지     |\n| 10 | 우유       |\n\n",
            "text/html": [
              "<table class=\"dataframe\">\n",
              "<caption>A data.frame: 30 × 2</caption>\n",
              "<thead>\n",
              "\t<tr><th scope=col>ID</th><th scope=col>Item</th></tr>\n",
              "\t<tr><th scope=col>&lt;int&gt;</th><th scope=col>&lt;chr&gt;</th></tr>\n",
              "</thead>\n",
              "<tbody>\n",
              "\t<tr><td> 1</td><td>홈런볼    </td></tr>\n",
              "\t<tr><td> 1</td><td>맥주      </td></tr>\n",
              "\t<tr><td> 1</td><td>커피      </td></tr>\n",
              "\t<tr><td> 1</td><td>우유      </td></tr>\n",
              "\t<tr><td> 1</td><td>사이다    </td></tr>\n",
              "\t<tr><td> 2</td><td>오렌지주스</td></tr>\n",
              "\t<tr><td> 2</td><td>콜라      </td></tr>\n",
              "\t<tr><td> 2</td><td>파워에이드</td></tr>\n",
              "\t<tr><td> 3</td><td>맥주      </td></tr>\n",
              "\t<tr><td> 3</td><td>사이다    </td></tr>\n",
              "\t<tr><td> 4</td><td>오렌지주스</td></tr>\n",
              "\t<tr><td> 4</td><td>콜라      </td></tr>\n",
              "\t<tr><td> 4</td><td>홈런볼    </td></tr>\n",
              "\t<tr><td> 5</td><td>오렌지주스</td></tr>\n",
              "\t<tr><td> 5</td><td>콜라      </td></tr>\n",
              "\t<tr><td> 5</td><td>홈런볼    </td></tr>\n",
              "\t<tr><td> 6</td><td>오렌지주스</td></tr>\n",
              "\t<tr><td> 6</td><td>콜라      </td></tr>\n",
              "\t<tr><td> 6</td><td>홈런볼    </td></tr>\n",
              "\t<tr><td> 7</td><td>커피      </td></tr>\n",
              "\t<tr><td> 7</td><td>꿀짱구    </td></tr>\n",
              "\t<tr><td> 8</td><td>오렌지주스</td></tr>\n",
              "\t<tr><td> 8</td><td>콜라      </td></tr>\n",
              "\t<tr><td> 9</td><td>오렌지주스</td></tr>\n",
              "\t<tr><td> 9</td><td>콜라      </td></tr>\n",
              "\t<tr><td> 9</td><td>홈런볼    </td></tr>\n",
              "\t<tr><td>10</td><td>홈런볼    </td></tr>\n",
              "\t<tr><td>10</td><td>LOTR      </td></tr>\n",
              "\t<tr><td>10</td><td>오렌지    </td></tr>\n",
              "\t<tr><td>10</td><td>우유      </td></tr>\n",
              "</tbody>\n",
              "</table>\n"
            ]
          },
          "metadata": {}
        }
      ]
    },
    {
      "cell_type": "code",
      "metadata": {
        "colab": {
          "base_uri": "https://localhost:8080/",
          "height": 381
        },
        "id": "0fPoz4KyMnsa",
        "outputId": "e1b9c467-299a-4218-c8fb-19455e86fedd"
      },
      "source": [
        "m.list<-split(m$Item, m$ID)\n",
        "m.list"
      ],
      "execution_count": 4,
      "outputs": [
        {
          "output_type": "display_data",
          "data": {
            "text/plain": [
              "$`1`\n",
              "[1] \"홈런볼\" \"맥주\"   \"커피\"   \"우유\"   \"사이다\"\n",
              "\n",
              "$`2`\n",
              "[1] \"오렌지주스\" \"콜라\"       \"파워에이드\"\n",
              "\n",
              "$`3`\n",
              "[1] \"맥주\"   \"사이다\"\n",
              "\n",
              "$`4`\n",
              "[1] \"오렌지주스\" \"콜라\"       \"홈런볼\"    \n",
              "\n",
              "$`5`\n",
              "[1] \"오렌지주스\" \"콜라\"       \"홈런볼\"    \n",
              "\n",
              "$`6`\n",
              "[1] \"오렌지주스\" \"콜라\"       \"홈런볼\"    \n",
              "\n",
              "$`7`\n",
              "[1] \"커피\"   \"꿀짱구\"\n",
              "\n",
              "$`8`\n",
              "[1] \"오렌지주스\" \"콜라\"      \n",
              "\n",
              "$`9`\n",
              "[1] \"오렌지주스\" \"콜라\"       \"홈런볼\"    \n",
              "\n",
              "$`10`\n",
              "[1] \"홈런볼\" \"LOTR\"   \"오렌지\" \"우유\"  \n"
            ],
            "text/latex": "\\begin{description}\n\\item[\\$`1`] \\begin{enumerate*}\n\\item '홈런볼'\n\\item '맥주'\n\\item '커피'\n\\item '우유'\n\\item '사이다'\n\\end{enumerate*}\n\n\\item[\\$`2`] \\begin{enumerate*}\n\\item '오렌지주스'\n\\item '콜라'\n\\item '파워에이드'\n\\end{enumerate*}\n\n\\item[\\$`3`] \\begin{enumerate*}\n\\item '맥주'\n\\item '사이다'\n\\end{enumerate*}\n\n\\item[\\$`4`] \\begin{enumerate*}\n\\item '오렌지주스'\n\\item '콜라'\n\\item '홈런볼'\n\\end{enumerate*}\n\n\\item[\\$`5`] \\begin{enumerate*}\n\\item '오렌지주스'\n\\item '콜라'\n\\item '홈런볼'\n\\end{enumerate*}\n\n\\item[\\$`6`] \\begin{enumerate*}\n\\item '오렌지주스'\n\\item '콜라'\n\\item '홈런볼'\n\\end{enumerate*}\n\n\\item[\\$`7`] \\begin{enumerate*}\n\\item '커피'\n\\item '꿀짱구'\n\\end{enumerate*}\n\n\\item[\\$`8`] \\begin{enumerate*}\n\\item '오렌지주스'\n\\item '콜라'\n\\end{enumerate*}\n\n\\item[\\$`9`] \\begin{enumerate*}\n\\item '오렌지주스'\n\\item '콜라'\n\\item '홈런볼'\n\\end{enumerate*}\n\n\\item[\\$`10`] \\begin{enumerate*}\n\\item '홈런볼'\n\\item 'LOTR'\n\\item '오렌지'\n\\item '우유'\n\\end{enumerate*}\n\n\\end{description}\n",
            "text/markdown": "$`1`\n:   1. '홈런볼'\n2. '맥주'\n3. '커피'\n4. '우유'\n5. '사이다'\n\n\n\n$`2`\n:   1. '오렌지주스'\n2. '콜라'\n3. '파워에이드'\n\n\n\n$`3`\n:   1. '맥주'\n2. '사이다'\n\n\n\n$`4`\n:   1. '오렌지주스'\n2. '콜라'\n3. '홈런볼'\n\n\n\n$`5`\n:   1. '오렌지주스'\n2. '콜라'\n3. '홈런볼'\n\n\n\n$`6`\n:   1. '오렌지주스'\n2. '콜라'\n3. '홈런볼'\n\n\n\n$`7`\n:   1. '커피'\n2. '꿀짱구'\n\n\n\n$`8`\n:   1. '오렌지주스'\n2. '콜라'\n\n\n\n$`9`\n:   1. '오렌지주스'\n2. '콜라'\n3. '홈런볼'\n\n\n\n$`10`\n:   1. '홈런볼'\n2. 'LOTR'\n3. '오렌지'\n4. '우유'\n\n\n\n\n\n",
            "text/html": [
              "<dl>\n",
              "\t<dt>$`1`</dt>\n",
              "\t\t<dd><style>\n",
              ".list-inline {list-style: none; margin:0; padding: 0}\n",
              ".list-inline>li {display: inline-block}\n",
              ".list-inline>li:not(:last-child)::after {content: \"\\00b7\"; padding: 0 .5ex}\n",
              "</style>\n",
              "<ol class=list-inline><li>'홈런볼'</li><li>'맥주'</li><li>'커피'</li><li>'우유'</li><li>'사이다'</li></ol>\n",
              "</dd>\n",
              "\t<dt>$`2`</dt>\n",
              "\t\t<dd><style>\n",
              ".list-inline {list-style: none; margin:0; padding: 0}\n",
              ".list-inline>li {display: inline-block}\n",
              ".list-inline>li:not(:last-child)::after {content: \"\\00b7\"; padding: 0 .5ex}\n",
              "</style>\n",
              "<ol class=list-inline><li>'오렌지주스'</li><li>'콜라'</li><li>'파워에이드'</li></ol>\n",
              "</dd>\n",
              "\t<dt>$`3`</dt>\n",
              "\t\t<dd><style>\n",
              ".list-inline {list-style: none; margin:0; padding: 0}\n",
              ".list-inline>li {display: inline-block}\n",
              ".list-inline>li:not(:last-child)::after {content: \"\\00b7\"; padding: 0 .5ex}\n",
              "</style>\n",
              "<ol class=list-inline><li>'맥주'</li><li>'사이다'</li></ol>\n",
              "</dd>\n",
              "\t<dt>$`4`</dt>\n",
              "\t\t<dd><style>\n",
              ".list-inline {list-style: none; margin:0; padding: 0}\n",
              ".list-inline>li {display: inline-block}\n",
              ".list-inline>li:not(:last-child)::after {content: \"\\00b7\"; padding: 0 .5ex}\n",
              "</style>\n",
              "<ol class=list-inline><li>'오렌지주스'</li><li>'콜라'</li><li>'홈런볼'</li></ol>\n",
              "</dd>\n",
              "\t<dt>$`5`</dt>\n",
              "\t\t<dd><style>\n",
              ".list-inline {list-style: none; margin:0; padding: 0}\n",
              ".list-inline>li {display: inline-block}\n",
              ".list-inline>li:not(:last-child)::after {content: \"\\00b7\"; padding: 0 .5ex}\n",
              "</style>\n",
              "<ol class=list-inline><li>'오렌지주스'</li><li>'콜라'</li><li>'홈런볼'</li></ol>\n",
              "</dd>\n",
              "\t<dt>$`6`</dt>\n",
              "\t\t<dd><style>\n",
              ".list-inline {list-style: none; margin:0; padding: 0}\n",
              ".list-inline>li {display: inline-block}\n",
              ".list-inline>li:not(:last-child)::after {content: \"\\00b7\"; padding: 0 .5ex}\n",
              "</style>\n",
              "<ol class=list-inline><li>'오렌지주스'</li><li>'콜라'</li><li>'홈런볼'</li></ol>\n",
              "</dd>\n",
              "\t<dt>$`7`</dt>\n",
              "\t\t<dd><style>\n",
              ".list-inline {list-style: none; margin:0; padding: 0}\n",
              ".list-inline>li {display: inline-block}\n",
              ".list-inline>li:not(:last-child)::after {content: \"\\00b7\"; padding: 0 .5ex}\n",
              "</style>\n",
              "<ol class=list-inline><li>'커피'</li><li>'꿀짱구'</li></ol>\n",
              "</dd>\n",
              "\t<dt>$`8`</dt>\n",
              "\t\t<dd><style>\n",
              ".list-inline {list-style: none; margin:0; padding: 0}\n",
              ".list-inline>li {display: inline-block}\n",
              ".list-inline>li:not(:last-child)::after {content: \"\\00b7\"; padding: 0 .5ex}\n",
              "</style>\n",
              "<ol class=list-inline><li>'오렌지주스'</li><li>'콜라'</li></ol>\n",
              "</dd>\n",
              "\t<dt>$`9`</dt>\n",
              "\t\t<dd><style>\n",
              ".list-inline {list-style: none; margin:0; padding: 0}\n",
              ".list-inline>li {display: inline-block}\n",
              ".list-inline>li:not(:last-child)::after {content: \"\\00b7\"; padding: 0 .5ex}\n",
              "</style>\n",
              "<ol class=list-inline><li>'오렌지주스'</li><li>'콜라'</li><li>'홈런볼'</li></ol>\n",
              "</dd>\n",
              "\t<dt>$`10`</dt>\n",
              "\t\t<dd><style>\n",
              ".list-inline {list-style: none; margin:0; padding: 0}\n",
              ".list-inline>li {display: inline-block}\n",
              ".list-inline>li:not(:last-child)::after {content: \"\\00b7\"; padding: 0 .5ex}\n",
              "</style>\n",
              "<ol class=list-inline><li>'홈런볼'</li><li>'LOTR'</li><li>'오렌지'</li><li>'우유'</li></ol>\n",
              "</dd>\n",
              "</dl>\n"
            ]
          },
          "metadata": {}
        }
      ]
    },
    {
      "cell_type": "code",
      "metadata": {
        "colab": {
          "base_uri": "https://localhost:8080/",
          "height": 70
        },
        "id": "m9iUfcjwMt1D",
        "outputId": "1f52ec63-e9b1-405a-eaba-af6ecc29c37a"
      },
      "source": [
        "# Transaction Data\n",
        "m.trans <- as(m.list, \"transactions\")\n",
        "m.trans"
      ],
      "execution_count": 5,
      "outputs": [
        {
          "output_type": "display_data",
          "data": {
            "text/plain": [
              "transactions in sparse format with\n",
              " 10 transactions (rows) and\n",
              " 11 items (columns)"
            ]
          },
          "metadata": {}
        }
      ]
    },
    {
      "cell_type": "code",
      "metadata": {
        "colab": {
          "base_uri": "https://localhost:8080/"
        },
        "id": "YTifFXf3M6Ja",
        "outputId": "a3cdb38e-0d77-4cab-ae2f-454517889a2e"
      },
      "source": [
        "inspect(m.trans)"
      ],
      "execution_count": 6,
      "outputs": [
        {
          "output_type": "stream",
          "text": [
            "     items                          transactionID\n",
            "[1]  {맥주,사이다,우유,커피,홈런볼} 1            \n",
            "[2]  {오렌지주스,콜라,파워에이드}   2            \n",
            "[3]  {맥주,사이다}                  3            \n",
            "[4]  {오렌지주스,콜라,홈런볼}       4            \n",
            "[5]  {오렌지주스,콜라,홈런볼}       5            \n",
            "[6]  {오렌지주스,콜라,홈런볼}       6            \n",
            "[7]  {꿀짱구,커피}                  7            \n",
            "[8]  {오렌지주스,콜라}              8            \n",
            "[9]  {오렌지주스,콜라,홈런볼}       9            \n",
            "[10] {LOTR,오렌지,우유,홈런볼}      10           \n"
          ],
          "name": "stdout"
        }
      ]
    },
    {
      "cell_type": "code",
      "metadata": {
        "colab": {
          "base_uri": "https://localhost:8080/",
          "height": 404
        },
        "id": "_luxKDv0M8LX",
        "outputId": "6c71415f-c94d-4b9f-f351-5bb064e1ff89"
      },
      "source": [
        "# Apriori 알고리즘 사용해서 연관규칙 분석\n",
        "# 지지도 20%, 신뢰도 20% 이상인 규칙\n",
        "m_rule <- apriori(m.trans, parameter=list(support=0.2, confidence=0.20, minlen=3))\n",
        "m_rule"
      ],
      "execution_count": 19,
      "outputs": [
        {
          "output_type": "stream",
          "text": [
            "Apriori\n",
            "\n",
            "Parameter specification:\n",
            " confidence minval smax arem  aval originalSupport maxtime support minlen\n",
            "        0.2    0.1    1 none FALSE            TRUE       5     0.2      3\n",
            " maxlen target  ext\n",
            "     10  rules TRUE\n",
            "\n",
            "Algorithmic control:\n",
            " filter tree heap memopt load sort verbose\n",
            "    0.1 TRUE TRUE  FALSE TRUE    2    TRUE\n",
            "\n",
            "Absolute minimum support count: 2 \n",
            "\n",
            "set item appearances ...[0 item(s)] done [0.00s].\n",
            "set transactions ...[11 item(s), 10 transaction(s)] done [0.00s].\n",
            "sorting and recoding items ... [7 item(s)] done [0.00s].\n",
            "creating transaction tree ... done [0.00s].\n",
            "checking subsets of size 1 2 3 done [0.00s].\n",
            "writing ... [3 rule(s)] done [0.00s].\n",
            "creating S4 object  ... done [0.00s].\n"
          ],
          "name": "stdout"
        },
        {
          "output_type": "display_data",
          "data": {
            "text/plain": [
              "set of 3 rules "
            ]
          },
          "metadata": {}
        }
      ]
    },
    {
      "cell_type": "code",
      "metadata": {
        "colab": {
          "base_uri": "https://localhost:8080/"
        },
        "id": "_xNelQKbNM-x",
        "outputId": "7192d3e8-6b85-454e-d1a5-6ca3b68ada17"
      },
      "source": [
        "inspect(m_rule)"
      ],
      "execution_count": 8,
      "outputs": [
        {
          "output_type": "stream",
          "text": [
            "    lhs                    rhs          support confidence coverage lift    \n",
            "[1] {오렌지주스,콜라}   => {홈런볼}     0.4     0.6666667  0.6      1.111111\n",
            "[2] {오렌지주스,홈런볼} => {콜라}       0.4     1.0000000  0.4      1.666667\n",
            "[3] {콜라,홈런볼}       => {오렌지주스} 0.4     1.0000000  0.4      1.666667\n",
            "    count\n",
            "[1] 4    \n",
            "[2] 4    \n",
            "[3] 4    \n"
          ],
          "name": "stdout"
        }
      ]
    },
    {
      "cell_type": "markdown",
      "metadata": {
        "id": "fCkttzMWNXD6"
      },
      "source": [
        "콜라와 홈런볼을 구매하면 오렌지주스를 구매할 지지도가 40%"
      ]
    },
    {
      "cell_type": "code",
      "metadata": {
        "colab": {
          "base_uri": "https://localhost:8080/",
          "height": 897
        },
        "id": "NVmzW67wNQYQ",
        "outputId": "d02cf043-c37b-422d-b7be-de526ab808d1"
      },
      "source": [
        "# minlen을 2로 변경\n",
        "m_rule <- apriori(m.trans, parameter=list(support=0.2, confidence=0.20, minlen=2))\n",
        "m_rule\n",
        "inspect(m_rule)"
      ],
      "execution_count": 24,
      "outputs": [
        {
          "output_type": "stream",
          "text": [
            "Apriori\n",
            "\n",
            "Parameter specification:\n",
            " confidence minval smax arem  aval originalSupport maxtime support minlen\n",
            "        0.2    0.1    1 none FALSE            TRUE       5     0.2      2\n",
            " maxlen target  ext\n",
            "     10  rules TRUE\n",
            "\n",
            "Algorithmic control:\n",
            " filter tree heap memopt load sort verbose\n",
            "    0.1 TRUE TRUE  FALSE TRUE    2    TRUE\n",
            "\n",
            "Absolute minimum support count: 2 \n",
            "\n",
            "set item appearances ...[0 item(s)] done [0.00s].\n",
            "set transactions ...[11 item(s), 10 transaction(s)] done [0.00s].\n",
            "sorting and recoding items ... [7 item(s)] done [0.00s].\n",
            "creating transaction tree ... done [0.00s].\n",
            "checking subsets of size 1 2 3 done [0.00s].\n",
            "writing ... [13 rule(s)] done [0.00s].\n",
            "creating S4 object  ... done [0.00s].\n"
          ],
          "name": "stdout"
        },
        {
          "output_type": "display_data",
          "data": {
            "text/plain": [
              "set of 13 rules "
            ]
          },
          "metadata": {}
        },
        {
          "output_type": "stream",
          "text": [
            "     lhs                    rhs          support confidence coverage lift    \n",
            "[1]  {맥주}              => {사이다}     0.2     1.0000000  0.2      5.000000\n",
            "[2]  {사이다}            => {맥주}       0.2     1.0000000  0.2      5.000000\n",
            "[3]  {우유}              => {홈런볼}     0.2     1.0000000  0.2      1.666667\n",
            "[4]  {홈런볼}            => {우유}       0.2     0.3333333  0.6      1.666667\n",
            "[5]  {오렌지주스}        => {콜라}       0.6     1.0000000  0.6      1.666667\n",
            "[6]  {콜라}              => {오렌지주스} 0.6     1.0000000  0.6      1.666667\n",
            "[7]  {오렌지주스}        => {홈런볼}     0.4     0.6666667  0.6      1.111111\n",
            "[8]  {홈런볼}            => {오렌지주스} 0.4     0.6666667  0.6      1.111111\n",
            "[9]  {콜라}              => {홈런볼}     0.4     0.6666667  0.6      1.111111\n",
            "[10] {홈런볼}            => {콜라}       0.4     0.6666667  0.6      1.111111\n",
            "[11] {오렌지주스,콜라}   => {홈런볼}     0.4     0.6666667  0.6      1.111111\n",
            "[12] {오렌지주스,홈런볼} => {콜라}       0.4     1.0000000  0.4      1.666667\n",
            "[13] {콜라,홈런볼}       => {오렌지주스} 0.4     1.0000000  0.4      1.666667\n",
            "     count\n",
            "[1]  2    \n",
            "[2]  2    \n",
            "[3]  2    \n",
            "[4]  2    \n",
            "[5]  6    \n",
            "[6]  6    \n",
            "[7]  4    \n",
            "[8]  4    \n",
            "[9]  4    \n",
            "[10] 4    \n",
            "[11] 4    \n",
            "[12] 4    \n",
            "[13] 4    \n"
          ],
          "name": "stdout"
        }
      ]
    },
    {
      "cell_type": "markdown",
      "metadata": {
        "id": "-xCor79hNmG4"
      },
      "source": [
        "2개의 변수로 분석하면 총 13개의 Rule이 조회된다."
      ]
    },
    {
      "cell_type": "code",
      "metadata": {
        "colab": {
          "base_uri": "https://localhost:8080/",
          "height": 437
        },
        "id": "ucJvvwUhNjiR",
        "outputId": "5fdeb145-46eb-40ae-c6f0-e68244779284"
      },
      "source": [
        "# 지지도 20% 이상을 대상으로 상대빈도 조사\n",
        "itemFrequencyPlot(m.trans, support=0.2, main=\"Association Rule\", col=\"red\")"
      ],
      "execution_count": 11,
      "outputs": [
        {
          "output_type": "display_data",
          "data": {
            "image/png": "[encoded data removed]",
            "text/plain": [
              "Plot with title “Association Rule”"
            ]
          },
          "metadata": {
            "image/png": {
              "width": 420,
              "height": 420
            }
          }
        }
      ]
    },
    {
      "cell_type": "code",
      "metadata": {
        "colab": {
          "base_uri": "https://localhost:8080/"
        },
        "id": "khzWcuQXPezy",
        "outputId": "88b71f57-bbd2-4e0d-9e2b-a9656fd7df4f"
      },
      "source": [
        "# 연관 규칙 결과 가시화\n",
        "install.packages(\"arulesViz\")"
      ],
      "execution_count": 14,
      "outputs": [
        {
          "output_type": "stream",
          "text": [
            "Installing package into ‘/usr/local/lib/R/site-library’\n",
            "(as ‘lib’ is unspecified)\n",
            "\n",
            "also installing the dependencies ‘igraph’, ‘ggnetwork’\n",
            "\n",
            "\n"
          ],
          "name": "stderr"
        }
      ]
    },
    {
      "cell_type": "code",
      "metadata": {
        "id": "aT2gZmYBPwmW"
      },
      "source": [
        "library(arulesViz)"
      ],
      "execution_count": 15,
      "outputs": []
    },
    {
      "cell_type": "code",
      "metadata": {
        "colab": {
          "base_uri": "https://localhost:8080/",
          "height": 437
        },
        "id": "XNs3Qz-iR6XR",
        "outputId": "7b6aad32-0959-4b29-c20b-d13918115a74"
      },
      "source": [
        "plot(m_rule, method=\"graph\")"
      ],
      "execution_count": 25,
      "outputs": [
        {
          "output_type": "display_data",
          "data": {
            "image/png": "[encoded data removed]",
            "text/plain": [
              "plot without title"
            ]
          },
          "metadata": {
            "image/png": {
              "width": 420,
              "height": 420
            }
          }
        }
      ]
    },
    {
      "cell_type": "markdown",
      "metadata": {
        "id": "O7w12Qy8Pz_j"
      },
      "source": [
        "##### 6> 연관규칙 장점\n",
        "- 연관규칙 분석의 결과에 대해서 이해가 쉬움\n",
        "- 분석이 간단하고 편리\n",
        "- 비목적성 분석기법\n",
        "\n",
        "##### 7> 연관규칙 단점\n",
        "- 품목 수가 증가하면 계산이 기하급수적으로 증가하므로 속도가 느려짐\n",
        "- 거래량이 적은 품목은 연관규칙 분석에서 제외 가능\n",
        "- 품목이 너무 세분화되면 의미 없는 분석 결과 나올 수 있음"
      ]
    },
    {
      "cell_type": "markdown",
      "metadata": {
        "id": "DKM25206Qbun"
      },
      "source": [
        "## 2. 순차적 패턴분석\n",
        "\n",
        "### 1. 순차적 패턴분석(Sequence Pattern Analysis)\n",
        "- 시간 및 순서에 따라 발생되는 연관성을 분석하는 방법으로 시퀀스를 이용해 순차적인 정보를 사용해서 분석\n",
        "- 순차 패턴분석을 위한 데이터 셋은 식별정보, 시간정보를 사용하고 평가척도는 지지도만 사용\n",
        "\n",
        "#### 1-1. 연관규칙 분석 vs 순차적 패턴분석\n",
        "|고객|연관규칙 분석|순차적 패턴분석|\n",
        "|----|-------------|---------------|\n",
        "|분석관점|동시발생 사건|시간 및 순서에 따른 사건|\n",
        "|데이터|거래 집합 셋(Transaction Data Set)|거래 집합 셋, 식별정보, 타임스탬프|\n",
        "|평가방법|지지도, 신뢰도, 향상도|지지도|\n",
        "\n",
        "cf) 지지도(Support) = Sequence를 포함하는 고객 비율\n",
        "\n",
        "#### 1-2. 순차 패턴분석 알고리즘\n",
        "|알고리즘|내용|\n",
        "|--------|----|\n",
        "|1단계: 정렬단계|거래 데이터를 시퀀스 데이터로 변환|\n",
        "|2단계: 빈발항목 집합|지지도를 사용해서 빈발항목 집합을 도출|\n",
        "|3단계: 변환단계|고객 시퀀스를 빈발항목 집합을 사용해서 시퀀스로 변환|\n",
        "|4단계: 시퀀스 단계|빈발 시퀀스 도출|\n",
        "|5단계: 최대화 단계|빈발 시퀀스에서 최대 시퀀스를 탐색|\n",
        "\n",
        "### 2. R을 사용한 순차적 패턴분석\n",
        "순차적 패턴분석을 위해서는 arulesSequences 패키지를 사용해야 함\n",
        "arulesSequences는 zaki 데이터 가지고 있음"
      ]
    },
    {
      "cell_type": "code",
      "metadata": {
        "colab": {
          "base_uri": "https://localhost:8080/"
        },
        "id": "NkbgJ5bnQMTu",
        "outputId": "112b6b43-bd88-4c62-c533-3bc4ecbe7d7e"
      },
      "source": [
        "install.packages(\"arulesSequences\")"
      ],
      "execution_count": 26,
      "outputs": [
        {
          "output_type": "stream",
          "text": [
            "Installing package into ‘/usr/local/lib/R/site-library’\n",
            "(as ‘lib’ is unspecified)\n",
            "\n"
          ],
          "name": "stderr"
        }
      ]
    },
    {
      "cell_type": "code",
      "metadata": {
        "id": "0k_kQ7ySSigl"
      },
      "source": [
        "library(arulesSequences)"
      ],
      "execution_count": 27,
      "outputs": []
    },
    {
      "cell_type": "code",
      "metadata": {
        "id": "P2S_iGDbSoCf"
      },
      "source": [
        "data(zaki)"
      ],
      "execution_count": 29,
      "outputs": []
    },
    {
      "cell_type": "code",
      "metadata": {
        "colab": {
          "base_uri": "https://localhost:8080/",
          "height": 492
        },
        "id": "vOCJzCR_SqUk",
        "outputId": "682d5140-aea8-44f3-f694-591a8d8181cb"
      },
      "source": [
        "summary(zaki)"
      ],
      "execution_count": 30,
      "outputs": [
        {
          "output_type": "display_data",
          "data": {
            "text/plain": [
              "transactions as itemMatrix in sparse format with\n",
              " 10 rows (elements/itemsets/transactions) and\n",
              " 8 columns (items) and a density of 0.3375 \n",
              "\n",
              "most frequent items:\n",
              "      A       B       F       C       D (Other) \n",
              "      6       5       5       3       3       5 \n",
              "\n",
              "element (itemset/transaction) length distribution:\n",
              "sizes\n",
              "1 2 3 4 \n",
              "1 2 6 1 \n",
              "\n",
              "   Min. 1st Qu.  Median    Mean 3rd Qu.    Max. \n",
              "   1.00    2.25    3.00    2.70    3.00    4.00 \n",
              "\n",
              "includes extended item information - examples:\n",
              "  labels\n",
              "1      A\n",
              "2      B\n",
              "3      C\n",
              "\n",
              "includes extended transaction information - examples:\n",
              "  sequenceID eventID SIZE\n",
              "1          1      10    2\n",
              "2          1      15    3\n",
              "3          1      20    3"
            ]
          },
          "metadata": {}
        }
      ]
    },
    {
      "cell_type": "code",
      "metadata": {
        "colab": {
          "base_uri": "https://localhost:8080/"
        },
        "id": "8bHy9RwTSuo2",
        "outputId": "7cd4fe06-3ab0-456d-fce5-a4d676846308"
      },
      "source": [
        "str(zaki)"
      ],
      "execution_count": 31,
      "outputs": [
        {
          "output_type": "stream",
          "text": [
            "Formal class 'transactions' [package \"arules\"] with 3 slots\n",
            "  ..@ data       :Formal class 'ngCMatrix' [package \"Matrix\"] with 5 slots\n",
            "  .. .. ..@ i       : int [1:27] 2 3 0 1 2 0 1 5 0 2 ...\n",
            "  .. .. ..@ p       : int [1:11] 0 2 5 8 12 15 16 19 22 24 ...\n",
            "  .. .. ..@ Dim     : int [1:2] 8 10\n",
            "  .. .. ..@ Dimnames:List of 2\n",
            "  .. .. .. ..$ : NULL\n",
            "  .. .. .. ..$ : NULL\n",
            "  .. .. ..@ factors : list()\n",
            "  ..@ itemInfo   :'data.frame':\t8 obs. of  1 variable:\n",
            "  .. ..$ labels: chr [1:8] \"A\" \"B\" \"C\" \"D\" ...\n",
            "  ..@ itemsetInfo:'data.frame':\t10 obs. of  3 variables:\n",
            "  .. ..$ sequenceID: int [1:10] 1 1 1 1 2 2 3 4 4 4\n",
            "  .. ..$ eventID   : int [1:10] 10 15 20 25 15 20 10 10 20 25\n",
            "  .. ..$ SIZE      : int [1:10] 2 3 3 4 3 1 3 3 2 3\n"
          ],
          "name": "stdout"
        }
      ]
    },
    {
      "cell_type": "markdown",
      "metadata": {
        "id": "DXO14Us9SyNm"
      },
      "source": [
        "아이템 별 순서정보(sequence ID)를 가지고 있음"
      ]
    },
    {
      "cell_type": "code",
      "metadata": {
        "colab": {
          "base_uri": "https://localhost:8080/",
          "height": 405
        },
        "id": "ODp7zvRWSv2r",
        "outputId": "c5d57838-7280-4892-bc10-7dd2468e6571"
      },
      "source": [
        "# 데이터 프레임 생성\n",
        "as(zaki, \"data.frame\")"
      ],
      "execution_count": 33,
      "outputs": [
        {
          "output_type": "display_data",
          "data": {
            "text/plain": [
              "   items     sequenceID eventID SIZE\n",
              "1  {C,D}     1          10      2   \n",
              "2  {A,B,C}   1          15      3   \n",
              "3  {A,B,F}   1          20      3   \n",
              "4  {A,C,D,F} 1          25      4   \n",
              "5  {A,B,F}   2          15      3   \n",
              "6  {E}       2          20      1   \n",
              "7  {A,B,F}   3          10      3   \n",
              "8  {D,G,H}   4          10      3   \n",
              "9  {B,F}     4          20      2   \n",
              "10 {A,G,H}   4          25      3   "
            ],
            "text/latex": "A data.frame: 10 × 4\n\\begin{tabular}{llll}\n items & sequenceID & eventID & SIZE\\\\\n <chr> & <int> & <int> & <int>\\\\\n\\hline\n\t \\{C,D\\}     & 1 & 10 & 2\\\\\n\t \\{A,B,C\\}   & 1 & 15 & 3\\\\\n\t \\{A,B,F\\}   & 1 & 20 & 3\\\\\n\t \\{A,C,D,F\\} & 1 & 25 & 4\\\\\n\t \\{A,B,F\\}   & 2 & 15 & 3\\\\\n\t \\{E\\}       & 2 & 20 & 1\\\\\n\t \\{A,B,F\\}   & 3 & 10 & 3\\\\\n\t \\{D,G,H\\}   & 4 & 10 & 3\\\\\n\t \\{B,F\\}     & 4 & 20 & 2\\\\\n\t \\{A,G,H\\}   & 4 & 25 & 3\\\\\n\\end{tabular}\n",
            "text/markdown": "\nA data.frame: 10 × 4\n\n| items &lt;chr&gt; | sequenceID &lt;int&gt; | eventID &lt;int&gt; | SIZE &lt;int&gt; |\n|---|---|---|---|\n| {C,D}     | 1 | 10 | 2 |\n| {A,B,C}   | 1 | 15 | 3 |\n| {A,B,F}   | 1 | 20 | 3 |\n| {A,C,D,F} | 1 | 25 | 4 |\n| {A,B,F}   | 2 | 15 | 3 |\n| {E}       | 2 | 20 | 1 |\n| {A,B,F}   | 3 | 10 | 3 |\n| {D,G,H}   | 4 | 10 | 3 |\n| {B,F}     | 4 | 20 | 2 |\n| {A,G,H}   | 4 | 25 | 3 |\n\n",
            "text/html": [
              "<table class=\"dataframe\">\n",
              "<caption>A data.frame: 10 × 4</caption>\n",
              "<thead>\n",
              "\t<tr><th scope=col>items</th><th scope=col>sequenceID</th><th scope=col>eventID</th><th scope=col>SIZE</th></tr>\n",
              "\t<tr><th scope=col>&lt;chr&gt;</th><th scope=col>&lt;int&gt;</th><th scope=col>&lt;int&gt;</th><th scope=col>&lt;int&gt;</th></tr>\n",
              "</thead>\n",
              "<tbody>\n",
              "\t<tr><td>{C,D}    </td><td>1</td><td>10</td><td>2</td></tr>\n",
              "\t<tr><td>{A,B,C}  </td><td>1</td><td>15</td><td>3</td></tr>\n",
              "\t<tr><td>{A,B,F}  </td><td>1</td><td>20</td><td>3</td></tr>\n",
              "\t<tr><td>{A,C,D,F}</td><td>1</td><td>25</td><td>4</td></tr>\n",
              "\t<tr><td>{A,B,F}  </td><td>2</td><td>15</td><td>3</td></tr>\n",
              "\t<tr><td>{E}      </td><td>2</td><td>20</td><td>1</td></tr>\n",
              "\t<tr><td>{A,B,F}  </td><td>3</td><td>10</td><td>3</td></tr>\n",
              "\t<tr><td>{D,G,H}  </td><td>4</td><td>10</td><td>3</td></tr>\n",
              "\t<tr><td>{B,F}    </td><td>4</td><td>20</td><td>2</td></tr>\n",
              "\t<tr><td>{A,G,H}  </td><td>4</td><td>25</td><td>3</td></tr>\n",
              "</tbody>\n",
              "</table>\n"
            ]
          },
          "metadata": {}
        }
      ]
    },
    {
      "cell_type": "code",
      "metadata": {
        "id": "r8s2c7rvS67f"
      },
      "source": [
        "# 순차 패턴분석\n",
        "# 지지도 30%인 정보만 만든다.\n",
        "seqr = cspade(zaki, parameter = list(support=0.3, maxsize=5, maxlen=4))"
      ],
      "execution_count": 34,
      "outputs": []
    },
    {
      "cell_type": "code",
      "metadata": {
        "colab": {
          "base_uri": "https://localhost:8080/",
          "height": 651
        },
        "id": "b6SWUpswTMMN",
        "outputId": "9fc003e8-1bbd-4f90-947c-6d75228642fa"
      },
      "source": [
        "as(seqr,\"data.frame\")"
      ],
      "execution_count": 35,
      "outputs": [
        {
          "output_type": "display_data",
          "data": {
            "text/plain": [
              "   sequence        support\n",
              "1  <{A}>           1.00   \n",
              "2  <{B}>           1.00   \n",
              "3  <{D}>           0.50   \n",
              "4  <{F}>           1.00   \n",
              "5  <{A,F}>         0.75   \n",
              "6  <{B,F}>         1.00   \n",
              "7  <{D},{F}>       0.50   \n",
              "8  <{D},{B,F}>     0.50   \n",
              "9  <{A,B,F}>       0.75   \n",
              "10 <{A,B}>         0.75   \n",
              "11 <{D},{B}>       0.50   \n",
              "12 <{B},{A}>       0.50   \n",
              "13 <{D},{A}>       0.50   \n",
              "14 <{F},{A}>       0.50   \n",
              "15 <{D},{F},{A}>   0.50   \n",
              "16 <{B,F},{A}>     0.50   \n",
              "17 <{D},{B,F},{A}> 0.50   \n",
              "18 <{D},{B},{A}>   0.50   "
            ],
            "text/latex": "A data.frame: 18 × 2\n\\begin{tabular}{ll}\n sequence & support\\\\\n <chr> & <dbl>\\\\\n\\hline\n\t <\\{A\\}>           & 1.00\\\\\n\t <\\{B\\}>           & 1.00\\\\\n\t <\\{D\\}>           & 0.50\\\\\n\t <\\{F\\}>           & 1.00\\\\\n\t <\\{A,F\\}>         & 0.75\\\\\n\t <\\{B,F\\}>         & 1.00\\\\\n\t <\\{D\\},\\{F\\}>       & 0.50\\\\\n\t <\\{D\\},\\{B,F\\}>     & 0.50\\\\\n\t <\\{A,B,F\\}>       & 0.75\\\\\n\t <\\{A,B\\}>         & 0.75\\\\\n\t <\\{D\\},\\{B\\}>       & 0.50\\\\\n\t <\\{B\\},\\{A\\}>       & 0.50\\\\\n\t <\\{D\\},\\{A\\}>       & 0.50\\\\\n\t <\\{F\\},\\{A\\}>       & 0.50\\\\\n\t <\\{D\\},\\{F\\},\\{A\\}>   & 0.50\\\\\n\t <\\{B,F\\},\\{A\\}>     & 0.50\\\\\n\t <\\{D\\},\\{B,F\\},\\{A\\}> & 0.50\\\\\n\t <\\{D\\},\\{B\\},\\{A\\}>   & 0.50\\\\\n\\end{tabular}\n",
            "text/markdown": "\nA data.frame: 18 × 2\n\n| sequence &lt;chr&gt; | support &lt;dbl&gt; |\n|---|---|\n| &lt;{A}&gt;           | 1.00 |\n| &lt;{B}&gt;           | 1.00 |\n| &lt;{D}&gt;           | 0.50 |\n| &lt;{F}&gt;           | 1.00 |\n| &lt;{A,F}&gt;         | 0.75 |\n| &lt;{B,F}&gt;         | 1.00 |\n| &lt;{D},{F}&gt;       | 0.50 |\n| &lt;{D},{B,F}&gt;     | 0.50 |\n| &lt;{A,B,F}&gt;       | 0.75 |\n| &lt;{A,B}&gt;         | 0.75 |\n| &lt;{D},{B}&gt;       | 0.50 |\n| &lt;{B},{A}&gt;       | 0.50 |\n| &lt;{D},{A}&gt;       | 0.50 |\n| &lt;{F},{A}&gt;       | 0.50 |\n| &lt;{D},{F},{A}&gt;   | 0.50 |\n| &lt;{B,F},{A}&gt;     | 0.50 |\n| &lt;{D},{B,F},{A}&gt; | 0.50 |\n| &lt;{D},{B},{A}&gt;   | 0.50 |\n\n",
            "text/html": [
              "<table class=\"dataframe\">\n",
              "<caption>A data.frame: 18 × 2</caption>\n",
              "<thead>\n",
              "\t<tr><th scope=col>sequence</th><th scope=col>support</th></tr>\n",
              "\t<tr><th scope=col>&lt;chr&gt;</th><th scope=col>&lt;dbl&gt;</th></tr>\n",
              "</thead>\n",
              "<tbody>\n",
              "\t<tr><td><span style=white-space:pre-wrap>&lt;{A}&gt;          </span></td><td>1.00</td></tr>\n",
              "\t<tr><td><span style=white-space:pre-wrap>&lt;{B}&gt;          </span></td><td>1.00</td></tr>\n",
              "\t<tr><td><span style=white-space:pre-wrap>&lt;{D}&gt;          </span></td><td>0.50</td></tr>\n",
              "\t<tr><td><span style=white-space:pre-wrap>&lt;{F}&gt;          </span></td><td>1.00</td></tr>\n",
              "\t<tr><td><span style=white-space:pre-wrap>&lt;{A,F}&gt;        </span></td><td>0.75</td></tr>\n",
              "\t<tr><td><span style=white-space:pre-wrap>&lt;{B,F}&gt;        </span></td><td>1.00</td></tr>\n",
              "\t<tr><td><span style=white-space:pre-wrap>&lt;{D},{F}&gt;      </span></td><td>0.50</td></tr>\n",
              "\t<tr><td><span style=white-space:pre-wrap>&lt;{D},{B,F}&gt;    </span></td><td>0.50</td></tr>\n",
              "\t<tr><td><span style=white-space:pre-wrap>&lt;{A,B,F}&gt;      </span></td><td>0.75</td></tr>\n",
              "\t<tr><td><span style=white-space:pre-wrap>&lt;{A,B}&gt;        </span></td><td>0.75</td></tr>\n",
              "\t<tr><td><span style=white-space:pre-wrap>&lt;{D},{B}&gt;      </span></td><td>0.50</td></tr>\n",
              "\t<tr><td><span style=white-space:pre-wrap>&lt;{B},{A}&gt;      </span></td><td>0.50</td></tr>\n",
              "\t<tr><td><span style=white-space:pre-wrap>&lt;{D},{A}&gt;      </span></td><td>0.50</td></tr>\n",
              "\t<tr><td><span style=white-space:pre-wrap>&lt;{F},{A}&gt;      </span></td><td>0.50</td></tr>\n",
              "\t<tr><td><span style=white-space:pre-wrap>&lt;{D},{F},{A}&gt;  </span></td><td>0.50</td></tr>\n",
              "\t<tr><td><span style=white-space:pre-wrap>&lt;{B,F},{A}&gt;    </span></td><td>0.50</td></tr>\n",
              "\t<tr><td>&lt;{D},{B,F},{A}&gt;</td><td>0.50</td></tr>\n",
              "\t<tr><td><span style=white-space:pre-wrap>&lt;{D},{B},{A}&gt;  </span></td><td>0.50</td></tr>\n",
              "</tbody>\n",
              "</table>\n"
            ]
          },
          "metadata": {}
        }
      ]
    },
    {
      "cell_type": "markdown",
      "metadata": {
        "id": "X4-Uw2FLTPxQ"
      },
      "source": [
        "- 순차 패턴분석을 위해 \"cspade\"함수를 사용해야 함. \"cspade\"함수는 지지도를 설정할 수 있는데 순차 패턴분석을 하고 순차 패턴분석 결과 지지도 30% 이상만 \"seqr\"에 저장\n",
        "- 위의 결과에서 <{A,F}>를 보면 A가 일어나고 F가 일어날 지지도가 75%이다."
      ]
    },
    {
      "cell_type": "markdown",
      "metadata": {
        "id": "Vo7skKSCTmUn"
      },
      "source": [
        "## 3. 텍스트 마이닝\n",
        "\n",
        "### 1. 텍스트 마이닝(Text Mining)\n",
        "- 자연어 처리 기술을 사용해서 문서의 어휘적, 문법적 특성을 분석하는 비정형 데이터 분석 기법\n",
        "- 비정형 데이터를 사용해서 의미 있는 정보를 추출하는 것으로 각 정보와의 연계성을 분석\n",
        "\n",
        "#### 1-1. 문서분류\n",
        "- 문서분류는 서지학의 한 부분으로 도서관 등에서 수많은 도서를 정해진 규칙에 의해 분류하는 것\n",
        "- 방대한 양의 도서를 텍스트마이닝 기법을 통해 자동으로 분류\n",
        "\n",
        "##### 1> 전처리\n",
        "- 문서 내에 있는 오탈자를 교정하고 불용어 등을 제거\n",
        "- 문서특징 값을 추출하기 위해서 반드시 수행되어야 함\n",
        "\n",
        "##### 2> 토큰화\n",
        "- 토큰화는 문서를 분류하기 위해 수행되어야 하며 형태소 분석기를 사용해서 명사, 동사, 형용사 등을 추출\n",
        "- 분석하는 목적에 따라서 추출되는 형태소는 달라질 수 있음\n",
        "\n",
        "##### 3> 특징 값 추출\n",
        "- 문서의 핵심단어를 식별하는 것으로 적은 수의 카테고리에 분포되고 카테고리 내에서는 빈번하게 출현해야 함\n",
        "- 만약, 어떤 단어가 모든 카테고리에 분포되어 있다면 차별성이 없는 단어\n",
        "\n",
        "##### 4> 분류\n",
        "- 학습 알고리즘을 사용해서 문서를 분류\n",
        "\n",
        "#### 1-2. 문서군집\n",
        "- 각 문서의 특징을 분석하여 각 문서 간 관련성이 높은 것을 군집\n",
        "- 문서군집은 유사도를 계산하여 관련 있는 문서를 묶어주는 방법 사용\n",
        "\n",
        "#### 1-3. 정보추출\n",
        "- 비정형 문서로부터 중요 키워드, 핵심개념, 날짜, 상황, 지명, 인명 등의 정보를 추출하여 정보를 요약하고 새롭고 가치있는 정보를 제공\n",
        "- 시멘틱 웹고 온톨로지에서 사용되어 의미기반 검색을 제공\n",
        "\n",
        "#### 1-4. 문서요약\n",
        "- 문서들의 특징을 분석하기 위해 자동으로 문서 정보를 요약\n",
        "\n"
      ]
    },
    {
      "cell_type": "code",
      "metadata": {
        "id": "UQQj0tlda3Sh"
      },
      "source": [
        ""
      ],
      "execution_count": null,
      "outputs": []
    }
  ]
}