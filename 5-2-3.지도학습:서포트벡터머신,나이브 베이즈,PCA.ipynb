{
  "nbformat": 4,
  "nbformat_minor": 0,
  "metadata": {
    "colab": {
      "name": "5-2-3. 지도학습 : 서포트벡터머신, 나이브 베이즈, PCA",
      "provenance": [],
      "collapsed_sections": [],
      "authorship_tag": "ABX9TyPmFEmqVd41v7JUj0zTrMhd",
      "include_colab_link": true
    },
    "kernelspec": {
      "name": "ir",
      "display_name": "R"
    },
    "language_info": {
      "name": "R"
    }
  },
  "cells": [
    {
      "cell_type": "markdown",
      "metadata": {
        "id": "view-in-github",
        "colab_type": "text"
      },
      "source": [
        "<a href=\"https://colab.research.google.com/github/chohu-boraaaa/ADsP/blob/main/5-2-3.%EC%A7%80%EB%8F%84%ED%95%99%EC%8A%B5%3A%EC%84%9C%ED%8F%AC%ED%8A%B8%EB%B2%A1%ED%84%B0%EB%A8%B8%EC%8B%A0%2C%EB%82%98%EC%9D%B4%EB%B8%8C%20%EB%B2%A0%EC%9D%B4%EC%A6%88%2CPCA.ipynb\" target=\"_parent\"><img src=\"https://colab.research.google.com/assets/colab-badge.svg\" alt=\"Open In Colab\"/></a>"
      ]
    },
    {
      "cell_type": "markdown",
      "metadata": {
        "id": "ANtOMXcU13wj"
      },
      "source": [
        "## 6. 서포트 벡터 머신\n",
        "\n",
        "### 1. 서포트 벡터 머신이란\n",
        "- 고차원 혹은 무한차원의 공간에서 초평면(Hyper plane, 결정경계)을 찾아서 이를 이용하여 분류 및 회귀분석 수행\n",
        "- 지도학습으로 모든 속성을 사용한 전역적 분류 모형\n",
        "- 속성들 간의 의존성 고려하지 않는 모델\n",
        "- 서포트 벡터 머신은 데이터를 분류할 수 있는 선을 찾고 선형회귀 분석은 데이터를 정확하게 맞출 수 있는 선을 찾음\n",
        "\n",
        "![SVM](https://encrypted-tbn0.gstatic.com/images?q=tbn:ANd9GcSoXZ09pkXkBW5rhdATMDEqKBSM3fZrIkzjaw&usqp=CAU)\n",
        "\n",
        "출처 : 서포트 벡터 머신을 이용한 유사 소프트웨어 분류 모델의 설계\n",
        "임 현 일 | 경남대학교 컴퓨터공학부 부교수\n",
        "\n",
        "- H3를 제외한 H1, H2 선 모두 데이터를 정확하게 분류하고 있음\n",
        "- 서포트 벡터 머신은 이 중에서 가장 최적화된 선을 찾는 방법\n",
        "- 서포트 벡터 머신은 최적화된 선을 찾기 위해 A그룹과 B그룹의 가장 바깥쪽에 있는 데이터를 찾음\n",
        "- A그룹과 B그룹의 바깥쪽에 있는 데이터 간 거리가 가장 멀리 떨어진 직선을 찾음\n",
        "\n",
        "#### 서포트 벡터 머신\n",
        "|장점|단점|\n",
        "|-----|-----|\n",
        "|- 모델의 정확도 우수|- 데이터가 많으면 속도가 떨어짐|\n",
        "|- 범주형 및 연속형 데이터 모두 처리|- 모델에 대한 해석 어려움|\n",
        "\n",
        "### 2. 선형 SVM\n",
        "- 객체를 분류할 때 초평면을 기준으로 객체 간에 마진을 최대화 되도록 분류하는 모델\n",
        "\n",
        "![선형SVM](https://media.vlpt.us/images/e_sin528/post/49a8aa2b-7162-41c5-8ff2-d160ccfedac1/SVM.png)\n",
        "\n",
        "출처 : https://velog.io/@e_sin528/%EB%A8%B8%EC%8B%A0%EB%9F%AC%EB%8B%9D-%EC%84%9C%ED%8F%AC%ED%8A%B8-%EB%B2%A1%ED%84%B0-%EB%A8%B8%EC%8B%A0-SVM\n",
        "\n",
        "- H(초평면) = b + Wx = 0\n",
        "- H1 = b+Wx = 1\n",
        "- H2 = b+Wx = -1\n",
        "\n",
        "### 3. 비선형 SVM\n",
        "- 비선형패턴은 선형패턴의 Feature space로 변환해서 분류하는 모델\n",
        "- Kernel method는 선형패턴의 Feature space로 변환, 비선형 경계면 도출\n",
        "\n",
        "#### 3-1. kernel method\n",
        "- 비선형 경계면 찾는 방법 제공\n",
        "- 비선형 패턴 분리를 위해서는 비선형 패턴의 입력공간을 선형패턴의 Feature space로 변환해야 함\n",
        "\n",
        "#### 3-2. 비선형 SVM\n",
        "\n",
        "![비선형SVM](https://media.vlpt.us/images/lolhi/post/145c491e-8c98-40a3-8165-465dbe75ac7e/image.png)\n",
        "\n",
        "출처 : https://velog.io/@lolhi/%EB%B9%84%EC%84%A0%ED%98%95-SVM\n",
        "\n",
        "#### 3-3. 비선형 데이터 변환\n",
        "\n",
        "![비선형데이터변환](data:image/jpeg;base64,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)\n",
        "\n",
        "출처 : http://blog.skby.net/svm-support-vector-machine/\n",
        "\n",
        "#### 3-4. Soft margin\n",
        "- Soft margin은 초평면이 존재하지 않는 비선형 구조에서 해를 구하는 것\n"
      ]
    },
    {
      "cell_type": "markdown",
      "metadata": {
        "id": "M5Z1t4V4-jMj"
      },
      "source": [
        "### 4. R을 사용한 SVM\n",
        "- 서포트 벡터 머신을 사용하기 위해서 \"e1071\" 패키지 설치해야 함\n",
        "- \"e1071\" 패키지 설치하면 SVM 함수 사용 가능\n",
        "- SVM 함수 : SVM(목표변수~독립변수, data=)"
      ]
    },
    {
      "cell_type": "code",
      "metadata": {
        "colab": {
          "base_uri": "https://localhost:8080/"
        },
        "id": "1I_whyGA8_Li",
        "outputId": "0ae0fd3d-e665-42c2-cfc0-3f75e62fd92a"
      },
      "source": [
        "install.packages(\"e1071\")"
      ],
      "execution_count": 1,
      "outputs": [
        {
          "output_type": "stream",
          "text": [
            "Installing package into ‘/usr/local/lib/R/site-library’\n",
            "(as ‘lib’ is unspecified)\n",
            "\n",
            "also installing the dependency ‘proxy’\n",
            "\n",
            "\n"
          ],
          "name": "stderr"
        }
      ]
    },
    {
      "cell_type": "code",
      "metadata": {
        "id": "Z4hJETr-_FZH"
      },
      "source": [
        "library(e1071)"
      ],
      "execution_count": 2,
      "outputs": []
    },
    {
      "cell_type": "code",
      "metadata": {
        "colab": {
          "base_uri": "https://localhost:8080/",
          "height": 1000
        },
        "id": "D35tq5I5_Nd6",
        "outputId": "bd611440-6b5b-4ac9-e70e-58ff25fdbcea"
      },
      "source": [
        "# iris 데이터 로딩\n",
        "attach(iris)\n",
        "View(iris)"
      ],
      "execution_count": 4,
      "outputs": [
        {
          "output_type": "display_data",
          "data": {
            "text/markdown": "\nA data.frame: 150 × 5\n\n| Sepal.Length &lt;dbl&gt; | Sepal.Width &lt;dbl&gt; | Petal.Length &lt;dbl&gt; | Petal.Width &lt;dbl&gt; | Species &lt;fct&gt; |\n|---|---|---|---|---|\n| 5.1 | 3.5 | 1.4 | 0.2 | setosa |\n| 4.9 | 3.0 | 1.4 | 0.2 | setosa |\n| 4.7 | 3.2 | 1.3 | 0.2 | setosa |\n| 4.6 | 3.1 | 1.5 | 0.2 | setosa |\n| 5.0 | 3.6 | 1.4 | 0.2 | setosa |\n| 5.4 | 3.9 | 1.7 | 0.4 | setosa |\n| 4.6 | 3.4 | 1.4 | 0.3 | setosa |\n| 5.0 | 3.4 | 1.5 | 0.2 | setosa |\n| 4.4 | 2.9 | 1.4 | 0.2 | setosa |\n| 4.9 | 3.1 | 1.5 | 0.1 | setosa |\n| 5.4 | 3.7 | 1.5 | 0.2 | setosa |\n| 4.8 | 3.4 | 1.6 | 0.2 | setosa |\n| 4.8 | 3.0 | 1.4 | 0.1 | setosa |\n| 4.3 | 3.0 | 1.1 | 0.1 | setosa |\n| 5.8 | 4.0 | 1.2 | 0.2 | setosa |\n| 5.7 | 4.4 | 1.5 | 0.4 | setosa |\n| 5.4 | 3.9 | 1.3 | 0.4 | setosa |\n| 5.1 | 3.5 | 1.4 | 0.3 | setosa |\n| 5.7 | 3.8 | 1.7 | 0.3 | setosa |\n| 5.1 | 3.8 | 1.5 | 0.3 | setosa |\n| 5.4 | 3.4 | 1.7 | 0.2 | setosa |\n| 5.1 | 3.7 | 1.5 | 0.4 | setosa |\n| 4.6 | 3.6 | 1.0 | 0.2 | setosa |\n| 5.1 | 3.3 | 1.7 | 0.5 | setosa |\n| 4.8 | 3.4 | 1.9 | 0.2 | setosa |\n| 5.0 | 3.0 | 1.6 | 0.2 | setosa |\n| 5.0 | 3.4 | 1.6 | 0.4 | setosa |\n| 5.2 | 3.5 | 1.5 | 0.2 | setosa |\n| 5.2 | 3.4 | 1.4 | 0.2 | setosa |\n| 4.7 | 3.2 | 1.6 | 0.2 | setosa |\n| ⋮ | ⋮ | ⋮ | ⋮ | ⋮ |\n| 6.9 | 3.2 | 5.7 | 2.3 | virginica |\n| 5.6 | 2.8 | 4.9 | 2.0 | virginica |\n| 7.7 | 2.8 | 6.7 | 2.0 | virginica |\n| 6.3 | 2.7 | 4.9 | 1.8 | virginica |\n| 6.7 | 3.3 | 5.7 | 2.1 | virginica |\n| 7.2 | 3.2 | 6.0 | 1.8 | virginica |\n| 6.2 | 2.8 | 4.8 | 1.8 | virginica |\n| 6.1 | 3.0 | 4.9 | 1.8 | virginica |\n| 6.4 | 2.8 | 5.6 | 2.1 | virginica |\n| 7.2 | 3.0 | 5.8 | 1.6 | virginica |\n| 7.4 | 2.8 | 6.1 | 1.9 | virginica |\n| 7.9 | 3.8 | 6.4 | 2.0 | virginica |\n| 6.4 | 2.8 | 5.6 | 2.2 | virginica |\n| 6.3 | 2.8 | 5.1 | 1.5 | virginica |\n| 6.1 | 2.6 | 5.6 | 1.4 | virginica |\n| 7.7 | 3.0 | 6.1 | 2.3 | virginica |\n| 6.3 | 3.4 | 5.6 | 2.4 | virginica |\n| 6.4 | 3.1 | 5.5 | 1.8 | virginica |\n| 6.0 | 3.0 | 4.8 | 1.8 | virginica |\n| 6.9 | 3.1 | 5.4 | 2.1 | virginica |\n| 6.7 | 3.1 | 5.6 | 2.4 | virginica |\n| 6.9 | 3.1 | 5.1 | 2.3 | virginica |\n| 5.8 | 2.7 | 5.1 | 1.9 | virginica |\n| 6.8 | 3.2 | 5.9 | 2.3 | virginica |\n| 6.7 | 3.3 | 5.7 | 2.5 | virginica |\n| 6.7 | 3.0 | 5.2 | 2.3 | virginica |\n| 6.3 | 2.5 | 5.0 | 1.9 | virginica |\n| 6.5 | 3.0 | 5.2 | 2.0 | virginica |\n| 6.2 | 3.4 | 5.4 | 2.3 | virginica |\n| 5.9 | 3.0 | 5.1 | 1.8 | virginica |\n\n",
            "text/latex": "A data.frame: 150 × 5\n\\begin{tabular}{lllll}\n Sepal.Length & Sepal.Width & Petal.Length & Petal.Width & Species\\\\\n <dbl> & <dbl> & <dbl> & <dbl> & <fct>\\\\\n\\hline\n\t 5.1 & 3.5 & 1.4 & 0.2 & setosa\\\\\n\t 4.9 & 3.0 & 1.4 & 0.2 & setosa\\\\\n\t 4.7 & 3.2 & 1.3 & 0.2 & setosa\\\\\n\t 4.6 & 3.1 & 1.5 & 0.2 & setosa\\\\\n\t 5.0 & 3.6 & 1.4 & 0.2 & setosa\\\\\n\t 5.4 & 3.9 & 1.7 & 0.4 & setosa\\\\\n\t 4.6 & 3.4 & 1.4 & 0.3 & setosa\\\\\n\t 5.0 & 3.4 & 1.5 & 0.2 & setosa\\\\\n\t 4.4 & 2.9 & 1.4 & 0.2 & setosa\\\\\n\t 4.9 & 3.1 & 1.5 & 0.1 & setosa\\\\\n\t 5.4 & 3.7 & 1.5 & 0.2 & setosa\\\\\n\t 4.8 & 3.4 & 1.6 & 0.2 & setosa\\\\\n\t 4.8 & 3.0 & 1.4 & 0.1 & setosa\\\\\n\t 4.3 & 3.0 & 1.1 & 0.1 & setosa\\\\\n\t 5.8 & 4.0 & 1.2 & 0.2 & setosa\\\\\n\t 5.7 & 4.4 & 1.5 & 0.4 & setosa\\\\\n\t 5.4 & 3.9 & 1.3 & 0.4 & setosa\\\\\n\t 5.1 & 3.5 & 1.4 & 0.3 & setosa\\\\\n\t 5.7 & 3.8 & 1.7 & 0.3 & setosa\\\\\n\t 5.1 & 3.8 & 1.5 & 0.3 & setosa\\\\\n\t 5.4 & 3.4 & 1.7 & 0.2 & setosa\\\\\n\t 5.1 & 3.7 & 1.5 & 0.4 & setosa\\\\\n\t 4.6 & 3.6 & 1.0 & 0.2 & setosa\\\\\n\t 5.1 & 3.3 & 1.7 & 0.5 & setosa\\\\\n\t 4.8 & 3.4 & 1.9 & 0.2 & setosa\\\\\n\t 5.0 & 3.0 & 1.6 & 0.2 & setosa\\\\\n\t 5.0 & 3.4 & 1.6 & 0.4 & setosa\\\\\n\t 5.2 & 3.5 & 1.5 & 0.2 & setosa\\\\\n\t 5.2 & 3.4 & 1.4 & 0.2 & setosa\\\\\n\t 4.7 & 3.2 & 1.6 & 0.2 & setosa\\\\\n\t ⋮ & ⋮ & ⋮ & ⋮ & ⋮\\\\\n\t 6.9 & 3.2 & 5.7 & 2.3 & virginica\\\\\n\t 5.6 & 2.8 & 4.9 & 2.0 & virginica\\\\\n\t 7.7 & 2.8 & 6.7 & 2.0 & virginica\\\\\n\t 6.3 & 2.7 & 4.9 & 1.8 & virginica\\\\\n\t 6.7 & 3.3 & 5.7 & 2.1 & virginica\\\\\n\t 7.2 & 3.2 & 6.0 & 1.8 & virginica\\\\\n\t 6.2 & 2.8 & 4.8 & 1.8 & virginica\\\\\n\t 6.1 & 3.0 & 4.9 & 1.8 & virginica\\\\\n\t 6.4 & 2.8 & 5.6 & 2.1 & virginica\\\\\n\t 7.2 & 3.0 & 5.8 & 1.6 & virginica\\\\\n\t 7.4 & 2.8 & 6.1 & 1.9 & virginica\\\\\n\t 7.9 & 3.8 & 6.4 & 2.0 & virginica\\\\\n\t 6.4 & 2.8 & 5.6 & 2.2 & virginica\\\\\n\t 6.3 & 2.8 & 5.1 & 1.5 & virginica\\\\\n\t 6.1 & 2.6 & 5.6 & 1.4 & virginica\\\\\n\t 7.7 & 3.0 & 6.1 & 2.3 & virginica\\\\\n\t 6.3 & 3.4 & 5.6 & 2.4 & virginica\\\\\n\t 6.4 & 3.1 & 5.5 & 1.8 & virginica\\\\\n\t 6.0 & 3.0 & 4.8 & 1.8 & virginica\\\\\n\t 6.9 & 3.1 & 5.4 & 2.1 & virginica\\\\\n\t 6.7 & 3.1 & 5.6 & 2.4 & virginica\\\\\n\t 6.9 & 3.1 & 5.1 & 2.3 & virginica\\\\\n\t 5.8 & 2.7 & 5.1 & 1.9 & virginica\\\\\n\t 6.8 & 3.2 & 5.9 & 2.3 & virginica\\\\\n\t 6.7 & 3.3 & 5.7 & 2.5 & virginica\\\\\n\t 6.7 & 3.0 & 5.2 & 2.3 & virginica\\\\\n\t 6.3 & 2.5 & 5.0 & 1.9 & virginica\\\\\n\t 6.5 & 3.0 & 5.2 & 2.0 & virginica\\\\\n\t 6.2 & 3.4 & 5.4 & 2.3 & virginica\\\\\n\t 5.9 & 3.0 & 5.1 & 1.8 & virginica\\\\\n\\end{tabular}\n",
            "text/html": [
              "<table class=\"dataframe\">\n",
              "<caption>A data.frame: 150 × 5</caption>\n",
              "<thead>\n",
              "\t<tr><th scope=col>Sepal.Length</th><th scope=col>Sepal.Width</th><th scope=col>Petal.Length</th><th scope=col>Petal.Width</th><th scope=col>Species</th></tr>\n",
              "\t<tr><th scope=col>&lt;dbl&gt;</th><th scope=col>&lt;dbl&gt;</th><th scope=col>&lt;dbl&gt;</th><th scope=col>&lt;dbl&gt;</th><th scope=col>&lt;fct&gt;</th></tr>\n",
              "</thead>\n",
              "<tbody>\n",
              "\t<tr><td>5.1</td><td>3.5</td><td>1.4</td><td>0.2</td><td>setosa</td></tr>\n",
              "\t<tr><td>4.9</td><td>3.0</td><td>1.4</td><td>0.2</td><td>setosa</td></tr>\n",
              "\t<tr><td>4.7</td><td>3.2</td><td>1.3</td><td>0.2</td><td>setosa</td></tr>\n",
              "\t<tr><td>4.6</td><td>3.1</td><td>1.5</td><td>0.2</td><td>setosa</td></tr>\n",
              "\t<tr><td>5.0</td><td>3.6</td><td>1.4</td><td>0.2</td><td>setosa</td></tr>\n",
              "\t<tr><td>5.4</td><td>3.9</td><td>1.7</td><td>0.4</td><td>setosa</td></tr>\n",
              "\t<tr><td>4.6</td><td>3.4</td><td>1.4</td><td>0.3</td><td>setosa</td></tr>\n",
              "\t<tr><td>5.0</td><td>3.4</td><td>1.5</td><td>0.2</td><td>setosa</td></tr>\n",
              "\t<tr><td>4.4</td><td>2.9</td><td>1.4</td><td>0.2</td><td>setosa</td></tr>\n",
              "\t<tr><td>4.9</td><td>3.1</td><td>1.5</td><td>0.1</td><td>setosa</td></tr>\n",
              "\t<tr><td>5.4</td><td>3.7</td><td>1.5</td><td>0.2</td><td>setosa</td></tr>\n",
              "\t<tr><td>4.8</td><td>3.4</td><td>1.6</td><td>0.2</td><td>setosa</td></tr>\n",
              "\t<tr><td>4.8</td><td>3.0</td><td>1.4</td><td>0.1</td><td>setosa</td></tr>\n",
              "\t<tr><td>4.3</td><td>3.0</td><td>1.1</td><td>0.1</td><td>setosa</td></tr>\n",
              "\t<tr><td>5.8</td><td>4.0</td><td>1.2</td><td>0.2</td><td>setosa</td></tr>\n",
              "\t<tr><td>5.7</td><td>4.4</td><td>1.5</td><td>0.4</td><td>setosa</td></tr>\n",
              "\t<tr><td>5.4</td><td>3.9</td><td>1.3</td><td>0.4</td><td>setosa</td></tr>\n",
              "\t<tr><td>5.1</td><td>3.5</td><td>1.4</td><td>0.3</td><td>setosa</td></tr>\n",
              "\t<tr><td>5.7</td><td>3.8</td><td>1.7</td><td>0.3</td><td>setosa</td></tr>\n",
              "\t<tr><td>5.1</td><td>3.8</td><td>1.5</td><td>0.3</td><td>setosa</td></tr>\n",
              "\t<tr><td>5.4</td><td>3.4</td><td>1.7</td><td>0.2</td><td>setosa</td></tr>\n",
              "\t<tr><td>5.1</td><td>3.7</td><td>1.5</td><td>0.4</td><td>setosa</td></tr>\n",
              "\t<tr><td>4.6</td><td>3.6</td><td>1.0</td><td>0.2</td><td>setosa</td></tr>\n",
              "\t<tr><td>5.1</td><td>3.3</td><td>1.7</td><td>0.5</td><td>setosa</td></tr>\n",
              "\t<tr><td>4.8</td><td>3.4</td><td>1.9</td><td>0.2</td><td>setosa</td></tr>\n",
              "\t<tr><td>5.0</td><td>3.0</td><td>1.6</td><td>0.2</td><td>setosa</td></tr>\n",
              "\t<tr><td>5.0</td><td>3.4</td><td>1.6</td><td>0.4</td><td>setosa</td></tr>\n",
              "\t<tr><td>5.2</td><td>3.5</td><td>1.5</td><td>0.2</td><td>setosa</td></tr>\n",
              "\t<tr><td>5.2</td><td>3.4</td><td>1.4</td><td>0.2</td><td>setosa</td></tr>\n",
              "\t<tr><td>4.7</td><td>3.2</td><td>1.6</td><td>0.2</td><td>setosa</td></tr>\n",
              "\t<tr><td>⋮</td><td>⋮</td><td>⋮</td><td>⋮</td><td>⋮</td></tr>\n",
              "\t<tr><td>6.9</td><td>3.2</td><td>5.7</td><td>2.3</td><td>virginica</td></tr>\n",
              "\t<tr><td>5.6</td><td>2.8</td><td>4.9</td><td>2.0</td><td>virginica</td></tr>\n",
              "\t<tr><td>7.7</td><td>2.8</td><td>6.7</td><td>2.0</td><td>virginica</td></tr>\n",
              "\t<tr><td>6.3</td><td>2.7</td><td>4.9</td><td>1.8</td><td>virginica</td></tr>\n",
              "\t<tr><td>6.7</td><td>3.3</td><td>5.7</td><td>2.1</td><td>virginica</td></tr>\n",
              "\t<tr><td>7.2</td><td>3.2</td><td>6.0</td><td>1.8</td><td>virginica</td></tr>\n",
              "\t<tr><td>6.2</td><td>2.8</td><td>4.8</td><td>1.8</td><td>virginica</td></tr>\n",
              "\t<tr><td>6.1</td><td>3.0</td><td>4.9</td><td>1.8</td><td>virginica</td></tr>\n",
              "\t<tr><td>6.4</td><td>2.8</td><td>5.6</td><td>2.1</td><td>virginica</td></tr>\n",
              "\t<tr><td>7.2</td><td>3.0</td><td>5.8</td><td>1.6</td><td>virginica</td></tr>\n",
              "\t<tr><td>7.4</td><td>2.8</td><td>6.1</td><td>1.9</td><td>virginica</td></tr>\n",
              "\t<tr><td>7.9</td><td>3.8</td><td>6.4</td><td>2.0</td><td>virginica</td></tr>\n",
              "\t<tr><td>6.4</td><td>2.8</td><td>5.6</td><td>2.2</td><td>virginica</td></tr>\n",
              "\t<tr><td>6.3</td><td>2.8</td><td>5.1</td><td>1.5</td><td>virginica</td></tr>\n",
              "\t<tr><td>6.1</td><td>2.6</td><td>5.6</td><td>1.4</td><td>virginica</td></tr>\n",
              "\t<tr><td>7.7</td><td>3.0</td><td>6.1</td><td>2.3</td><td>virginica</td></tr>\n",
              "\t<tr><td>6.3</td><td>3.4</td><td>5.6</td><td>2.4</td><td>virginica</td></tr>\n",
              "\t<tr><td>6.4</td><td>3.1</td><td>5.5</td><td>1.8</td><td>virginica</td></tr>\n",
              "\t<tr><td>6.0</td><td>3.0</td><td>4.8</td><td>1.8</td><td>virginica</td></tr>\n",
              "\t<tr><td>6.9</td><td>3.1</td><td>5.4</td><td>2.1</td><td>virginica</td></tr>\n",
              "\t<tr><td>6.7</td><td>3.1</td><td>5.6</td><td>2.4</td><td>virginica</td></tr>\n",
              "\t<tr><td>6.9</td><td>3.1</td><td>5.1</td><td>2.3</td><td>virginica</td></tr>\n",
              "\t<tr><td>5.8</td><td>2.7</td><td>5.1</td><td>1.9</td><td>virginica</td></tr>\n",
              "\t<tr><td>6.8</td><td>3.2</td><td>5.9</td><td>2.3</td><td>virginica</td></tr>\n",
              "\t<tr><td>6.7</td><td>3.3</td><td>5.7</td><td>2.5</td><td>virginica</td></tr>\n",
              "\t<tr><td>6.7</td><td>3.0</td><td>5.2</td><td>2.3</td><td>virginica</td></tr>\n",
              "\t<tr><td>6.3</td><td>2.5</td><td>5.0</td><td>1.9</td><td>virginica</td></tr>\n",
              "\t<tr><td>6.5</td><td>3.0</td><td>5.2</td><td>2.0</td><td>virginica</td></tr>\n",
              "\t<tr><td>6.2</td><td>3.4</td><td>5.4</td><td>2.3</td><td>virginica</td></tr>\n",
              "\t<tr><td>5.9</td><td>3.0</td><td>5.1</td><td>1.8</td><td>virginica</td></tr>\n",
              "</tbody>\n",
              "</table>\n"
            ],
            "text/plain": [
              "    Sepal.Length Sepal.Width Petal.Length Petal.Width Species  \n",
              "1   5.1          3.5         1.4          0.2         setosa   \n",
              "2   4.9          3.0         1.4          0.2         setosa   \n",
              "3   4.7          3.2         1.3          0.2         setosa   \n",
              "4   4.6          3.1         1.5          0.2         setosa   \n",
              "5   5.0          3.6         1.4          0.2         setosa   \n",
              "6   5.4          3.9         1.7          0.4         setosa   \n",
              "7   4.6          3.4         1.4          0.3         setosa   \n",
              "8   5.0          3.4         1.5          0.2         setosa   \n",
              "9   4.4          2.9         1.4          0.2         setosa   \n",
              "10  4.9          3.1         1.5          0.1         setosa   \n",
              "11  5.4          3.7         1.5          0.2         setosa   \n",
              "12  4.8          3.4         1.6          0.2         setosa   \n",
              "13  4.8          3.0         1.4          0.1         setosa   \n",
              "14  4.3          3.0         1.1          0.1         setosa   \n",
              "15  5.8          4.0         1.2          0.2         setosa   \n",
              "16  5.7          4.4         1.5          0.4         setosa   \n",
              "17  5.4          3.9         1.3          0.4         setosa   \n",
              "18  5.1          3.5         1.4          0.3         setosa   \n",
              "19  5.7          3.8         1.7          0.3         setosa   \n",
              "20  5.1          3.8         1.5          0.3         setosa   \n",
              "21  5.4          3.4         1.7          0.2         setosa   \n",
              "22  5.1          3.7         1.5          0.4         setosa   \n",
              "23  4.6          3.6         1.0          0.2         setosa   \n",
              "24  5.1          3.3         1.7          0.5         setosa   \n",
              "25  4.8          3.4         1.9          0.2         setosa   \n",
              "26  5.0          3.0         1.6          0.2         setosa   \n",
              "27  5.0          3.4         1.6          0.4         setosa   \n",
              "28  5.2          3.5         1.5          0.2         setosa   \n",
              "29  5.2          3.4         1.4          0.2         setosa   \n",
              "30  4.7          3.2         1.6          0.2         setosa   \n",
              "⋮   ⋮            ⋮           ⋮            ⋮           ⋮        \n",
              "121 6.9          3.2         5.7          2.3         virginica\n",
              "122 5.6          2.8         4.9          2.0         virginica\n",
              "123 7.7          2.8         6.7          2.0         virginica\n",
              "124 6.3          2.7         4.9          1.8         virginica\n",
              "125 6.7          3.3         5.7          2.1         virginica\n",
              "126 7.2          3.2         6.0          1.8         virginica\n",
              "127 6.2          2.8         4.8          1.8         virginica\n",
              "128 6.1          3.0         4.9          1.8         virginica\n",
              "129 6.4          2.8         5.6          2.1         virginica\n",
              "130 7.2          3.0         5.8          1.6         virginica\n",
              "131 7.4          2.8         6.1          1.9         virginica\n",
              "132 7.9          3.8         6.4          2.0         virginica\n",
              "133 6.4          2.8         5.6          2.2         virginica\n",
              "134 6.3          2.8         5.1          1.5         virginica\n",
              "135 6.1          2.6         5.6          1.4         virginica\n",
              "136 7.7          3.0         6.1          2.3         virginica\n",
              "137 6.3          3.4         5.6          2.4         virginica\n",
              "138 6.4          3.1         5.5          1.8         virginica\n",
              "139 6.0          3.0         4.8          1.8         virginica\n",
              "140 6.9          3.1         5.4          2.1         virginica\n",
              "141 6.7          3.1         5.6          2.4         virginica\n",
              "142 6.9          3.1         5.1          2.3         virginica\n",
              "143 5.8          2.7         5.1          1.9         virginica\n",
              "144 6.8          3.2         5.9          2.3         virginica\n",
              "145 6.7          3.3         5.7          2.5         virginica\n",
              "146 6.7          3.0         5.2          2.3         virginica\n",
              "147 6.3          2.5         5.0          1.9         virginica\n",
              "148 6.5          3.0         5.2          2.0         virginica\n",
              "149 6.2          3.4         5.4          2.3         virginica\n",
              "150 5.9          3.0         5.1          1.8         virginica"
            ]
          },
          "metadata": {}
        }
      ]
    },
    {
      "cell_type": "markdown",
      "metadata": {
        "id": "Oj4ijSBh_cql"
      },
      "source": [
        "Species가 종속변수 나머지는 독립변수"
      ]
    },
    {
      "cell_type": "code",
      "metadata": {
        "colab": {
          "base_uri": "https://localhost:8080/",
          "height": 386
        },
        "id": "X9y-qq6J_SWR",
        "outputId": "0db85946-815a-4936-b1d2-1a66917543db"
      },
      "source": [
        "# SVM 분석 종속변수 : Species, 독립변수 : 4\n",
        "tsvm <- svm(Species~., data=iris)\n",
        "summary(tsvm)"
      ],
      "execution_count": 5,
      "outputs": [
        {
          "output_type": "display_data",
          "data": {
            "text/plain": [
              "\n",
              "Call:\n",
              "svm(formula = Species ~ ., data = iris)\n",
              "\n",
              "\n",
              "Parameters:\n",
              "   SVM-Type:  C-classification \n",
              " SVM-Kernel:  radial \n",
              "       cost:  1 \n",
              "\n",
              "Number of Support Vectors:  51\n",
              "\n",
              " ( 8 22 21 )\n",
              "\n",
              "\n",
              "Number of Classes:  3 \n",
              "\n",
              "Levels: \n",
              " setosa versicolor virginica\n",
              "\n",
              "\n"
            ]
          },
          "metadata": {}
        }
      ]
    },
    {
      "cell_type": "markdown",
      "metadata": {
        "id": "3TF-5Y2j_w_o"
      },
      "source": [
        "\"radical\" 커널함수를 사용하고 독립변수가 4개이므로 gamma가 0.25 = 1/4이다."
      ]
    },
    {
      "cell_type": "code",
      "metadata": {
        "colab": {
          "base_uri": "https://localhost:8080/",
          "height": 105
        },
        "id": "FIPJM0oU_nva",
        "outputId": "f93bd915-c463-4d07-e1c9-51f3210302a9"
      },
      "source": [
        "# svm 모형검증 : 예측값과 실제값 비교\n",
        "x <- iris[,-5]\n",
        "pred <- predict(tsvm, x)\n",
        "y <- iris[,5]\n",
        "table(pred, y)"
      ],
      "execution_count": 6,
      "outputs": [
        {
          "output_type": "display_data",
          "data": {
            "text/plain": [
              "            y\n",
              "pred         setosa versicolor virginica\n",
              "  setosa         50          0         0\n",
              "  versicolor      0         48         2\n",
              "  virginica       0          2        48"
            ]
          },
          "metadata": {}
        }
      ]
    },
    {
      "cell_type": "markdown",
      "metadata": {
        "id": "xkCzIi5vATaN"
      },
      "source": [
        "오분류율 : (2+2)/150*100 = 2.66%"
      ]
    },
    {
      "cell_type": "code",
      "metadata": {
        "colab": {
          "base_uri": "https://localhost:8080/",
          "height": 437
        },
        "id": "lz9iWNLNAECk",
        "outputId": "fd6e5b7c-a11c-4809-b187-fa3fc233bc55"
      },
      "source": [
        "# svm 모델 가시화\n",
        "plot(tsvm, iris, Petal.Width~Petal.Length, slice=list(Sepal.Width=3, Sepal.Length=4))"
      ],
      "execution_count": 8,
      "outputs": [
        {
          "output_type": "display_data",
          "data": {
            "image/png": "[encoded data removed]",
            "text/plain": [
              "Plot with title “SVM classification plot”"
            ]
          },
          "metadata": {
            "image/png": {
              "width": 420,
              "height": 420
            }
          }
        }
      ]
    },
    {
      "cell_type": "markdown",
      "metadata": {
        "id": "SBR_cnpwApWH"
      },
      "source": [
        "## 7. 나이브 베이즈 분류모형\n",
        "\n",
        "### 1. 조건부 확률\n",
        "A 조건이 추가되는 경우 다른 사건 B가 발생하는 확률\n",
        "\n",
        "![조건부확률](https://blog.kakaocdn.net/dn/rHTTW/btqCsGYYHNG/XghufpfwPyEE9KN4Yk0XCK/img.png)\n",
        "\n",
        "출처 : https://heehehe-ds.tistory.com/entry/%ED%86%B5%EA%B3%84%ED%95%99-6-4-%EB%B2%A0%EC%9D%B4%EC%A6%88-%EC%A0%95%EB%A6%AC\n",
        "\n",
        "- 독립하는 A, B 변수의 P(B|A)는 P(B)와 같다. 마찬가지로 P(A|B)는 P(A)와 같다.\n",
        "- 조건부 확률에서 배반사건이라는 것은 A와 B가 교집합이 없는 경우를 의미\n",
        "\n",
        "### 2. 나이브 베이즈 분류\n",
        "- 나이브 베이즈 분류모형은 데이터를 분류할 때 데이터 셋의 모든 특징들이 독립적이고 동등하다고 가정하고 데이터 분류\n",
        "- 자료에 대한 가정을 하지 않고 대용량 데이터 자료에서 동작 가능\n",
        "- 스팸필터 및 키워드 검색을 활용한 문서분류에 사용됨\n",
        "- 베이즈 정리를 적용하여 데이터를 구성하고 각 변수는 독립적으로 가정해서 입력벡터를 분류하는 확률모형\n",
        "- 서포트 벡터 머신과 함께 우수한 분류 성능을 보이고 있음\n",
        "- 범주형 예측자료만 가능. 수치형 자료의 경우는 범주형으로 변환하여 사용해야 함\n",
        "\n",
        "#### ex. 나이브 베이즈 사용한 스팸필터\n",
        "- 스팸메일 : 삼성전자에 대한 투자전략 세미나가 있습니다. 정말 좋은 기회입니다.\n",
        "- 위의 예에서 삼성전자, 투자전략, 세미나, 정말, 좋은, 기회 등의 단어가 등록되어 있다면 스팸 필터는 각 단어를 서로 무관하게 판단. \n",
        "- 삼성전자가 나타날 확률을 투자전략, 세미나와 무관하게 판단\n",
        "- 메일에 스팸으로 등록된 단어가 많으면 스팸일 확률이 높아지기 때문에 스팸으로 분류\n",
        "\n",
        "#### ★ 나이브 베이즈 알고리즘\n",
        "\n",
        "![나이브 베이즈](https://ichi.pro/assets/images/max/724/1*AF1qy33k2EmAN-56DbfgWg.jpeg)\n",
        "\n",
        "출처 : https://ichi.pro/ko/naibeu-bei-jeu-lan-43742463600793\n",
        "\n",
        "### 3. 나이브 베이즈 장점\n",
        "- 매우 단순하고 결측 데이터가 있어도 우수\n",
        "- 적은 학습 데이터로도 잘 수행됨\n",
        "- 메모리 사용량 적음\n",
        "- 우수한 분류성능 발휘\n",
        "- 계산과정의 복잡성이 낮기 때문에 성능이 빠름\n",
        "- 예측에 대한 추정된 확률을 얻기 쉬움\n",
        "\n",
        "### 4. 나이브 베이즈 단점\n",
        "- 모든 속성을 독립적이고 동등하다는 가정에 의존\n",
        "- 변수들이 확률적으로 독립되지 않은 경우에 오류 발생 가능\n",
        "- 수치속성으로 구성된 데이터 셋에서는 우수하지 않음\n",
        "- 추정된 확률은 예측된 범주보다 신뢰 떨어짐\n"
      ]
    },
    {
      "cell_type": "markdown",
      "metadata": {
        "id": "YpOpFN5bKpF0"
      },
      "source": [
        "## 8. 주성분 분석\n",
        "\n",
        "### 1. 주성분 분석(PCA;Principal Component Analysis)\n",
        "- 주성분 분석은 데이터의 포인트를 가장 잘 구별해주는 변수인 주성분을 찾는 것\n",
        "- n개의 관측치와 p개의 변수로 구성된 데이터를 상관관계가 없는 k개의 변수로 구성된 데이터로 요약하는 방법\n",
        "- 요약된 변수는 모든 X변수들의 선형조합으로 생성\n",
        "- 원래 데이터의 분산을 최대한 보존하는 축을 찾고 그 축에 데이터를 사영시킴\n",
        "\n",
        "#### 1-1. 주성분 분석의 특징\n",
        "- 주성분은 데이터 포인트가 가장 넓게 분포하는 차원\n",
        "- 주성분은 자료를 구별하기 위해서 각 변량의 분산이 최대가 되도록 각 변량을 합성하는 것\n",
        "- 분산의 크기로 자료를 구별하는 것으로 분산이 크면 자료의 차이를 쉽게 구별 가능\n",
        "- 입력 데이터들의 공분산 행렬에 대한 고유값 분해\n",
        "- X 변수의 수가 많은 고차원 데이터를 분석할 경우 변수가 많으면 불필요한 변수가 존재할 수 있음.\n",
        "- 주성분 분석은 변수를 축소하기 위한 방법이기도 함\n",
        "- PCA는 차원축소를 통해 시각화, 압축, 군집화 등을 수행\n",
        "\n",
        "#### 1-2. 주성분 분석 예시\n",
        "- 식품이라는 변수는 채소와 육류라는 두 개의 집단으로 되어 있는데 주성분 분석은 두 개의 집단을 가장 잘 구분할 수 있는 변수를 찾는 것\n",
        "- 채소는 비타민 C가 다량으로 함유되어 있지만 육류에는 비타민 C가 없으므로 비타민 C로 집단을 구분하면 채소 구분 가능\n",
        "- 육류는 지방이 많이 있지만 채소에는 지방이 없다. 따라서 지방으로 구분하면 육류 식별 가능\n",
        "- 주성분이라는 말은 어떤 집단을 가장 잘 구분할 수 있는 변수를 의미. 이런 주성분은 데이터 전체에 넓게 흩어져 있음\n",
        "\n",
        "##### ✅ 주성분분석\n",
        "|분석구분|내용|\n",
        "|--------|----|\n",
        "|주성분분석|데이터 포인트의 분포는 가장 넓은 차원이 유리하다는 것을 가정|\n",
        "|독립성분분석|데이터 셋에 존재하는 독립성분을 찾는다. 즉, 독립성분에는 데이터의 독특한 정보가 포함되어 있게 된다.|\n",
        "\n",
        "#### 1-3. 주성분 분석\n",
        "\n",
        "##### 1> 상관관계가 없는 k개의 변수로 줄인다.\n",
        "- 관측치는 변경하지 않고 변수를 축소\n",
        "\n",
        "##### 2> 요약된 변수는 모든 X변수들의 선형결합\n",
        "- 변수가 축소된 Z변수는 원래의 모든 X변수들의 선형결합\n",
        "- Zi = ai1X1 + ai2X2 + ... + aipXp\n",
        "- X1 ... Xp : 원래변수\n",
        "- ai = {a11, a12, ... ,ap} : 기저(Basis) 혹은 계수(Loading)\n",
        "- Z1 ... Zp : 주성분으로 변환 후 변수\n",
        "\n",
        "##### 3> 원래의 데이터의 분산을 최대한 보존하는 축\n",
        "- 데이터를 각 축에 사영\n",
        "- PCA는 원래 데이터의 분산을 최대화하는 축을 찾음\n",
        "\n",
        "##### 4> 주성분 분석의 필요성\n",
        "- 변수의 수가 너무 많아 불필요한 변수 제거 필요\n",
        "- 변수의 수를 줄여 시각화 필요\n",
        "- 고차원 데이터는 계산의 복잡도가 증가하므로 분석모델의 비효율성이 증가하므로 주성분 분석 필요\n",
        "- 고차원 데이터 중 중요한 변수들만 선택하여 변수의 차원을 축소해야 함\n",
        "\n",
        "### 2. 주성분 분석기법\n",
        "\n",
        "#### 2-1. 변수선택\n",
        "- 분석모델의 목적에 맞는 최소한의 변수만을 선택하여 분석 진행\n",
        "- 장점 : 선택한 변수를 사용해서 분석 수행하면 분석 결과에 대한 해석 용이\n",
        "- 단점 : 변수가 선택되면 다변량 데이터에서 변수 간 상관관계를 고려하기 어려움\n",
        "\n",
        "#### 2-2. 변수추출\n",
        "- 기존 변수를 변환하여 새로운 변수 추출\n",
        "- 기존 변수의 결합으로 새로운 변수가 만들어진다.\n",
        "- 장점 : 다변량 데이터에서 변수 간 상관관계를 고려할 수 있음, 변수의 수를 많이 줄일 수 있음\n",
        "- 단점 : 추출된 변수로 분석된 결과는 해석이 어려움\n",
        "\n",
        "#### 2-3. 지도학습과 비지도학습\n",
        "- 변수선택과 변수추출의 경우 지도학습과 비지도학습에 따라서 기법이 아래 표와 같이 분류\n",
        "- 지도학습과 비지도학습에 따른 분류\n",
        "\n",
        "|학습방법에 따른 분류|기법|\n",
        "|--------------------|----|\n",
        "|Supervised feature selection|Information gain, Stepwise regresssion, LASSO|\n",
        "|Supervised feature extraction|PLS(Partial Least Squares)|\n",
        "|UnSupervised feature selection|PCA loading|\n",
        "|UnSupervised feature extraction|PCA|\n",
        "\n",
        "#### 2-4. R을 사용한 주성분 분석\n",
        "\n"
      ]
    },
    {
      "cell_type": "code",
      "metadata": {
        "colab": {
          "base_uri": "https://localhost:8080/",
          "height": 453
        },
        "id": "7ABJJo6CKmfC",
        "outputId": "b0a9ba6e-3403-42ec-ddbb-9048711ab220"
      },
      "source": [
        "attach(iris)\n",
        "# 4개의 독립변수 간 상관계수 계산\n",
        "cor(iris[,1:4])"
      ],
      "execution_count": 4,
      "outputs": [
        {
          "output_type": "stream",
          "text": [
            "The following objects are masked from iris (pos = 3):\n",
            "\n",
            "    Petal.Length, Petal.Width, Sepal.Length, Sepal.Width, Species\n",
            "\n",
            "\n",
            "The following objects are masked from iris (pos = 4):\n",
            "\n",
            "    Petal.Length, Petal.Width, Sepal.Length, Sepal.Width, Species\n",
            "\n",
            "\n",
            "The following objects are masked from iris (pos = 5):\n",
            "\n",
            "    Petal.Length, Petal.Width, Sepal.Length, Sepal.Width, Species\n",
            "\n",
            "\n"
          ],
          "name": "stderr"
        },
        {
          "output_type": "display_data",
          "data": {
            "text/plain": [
              "             Sepal.Length Sepal.Width Petal.Length Petal.Width\n",
              "Sepal.Length  1.0000000   -0.1175698   0.8717538    0.8179411 \n",
              "Sepal.Width  -0.1175698    1.0000000  -0.4284401   -0.3661259 \n",
              "Petal.Length  0.8717538   -0.4284401   1.0000000    0.9628654 \n",
              "Petal.Width   0.8179411   -0.3661259   0.9628654    1.0000000 "
            ],
            "text/latex": "A matrix: 4 × 4 of type dbl\n\\begin{tabular}{r|llll}\n  & Sepal.Length & Sepal.Width & Petal.Length & Petal.Width\\\\\n\\hline\n\tSepal.Length &  1.0000000 & -0.1175698 &  0.8717538 &  0.8179411\\\\\n\tSepal.Width & -0.1175698 &  1.0000000 & -0.4284401 & -0.3661259\\\\\n\tPetal.Length &  0.8717538 & -0.4284401 &  1.0000000 &  0.9628654\\\\\n\tPetal.Width &  0.8179411 & -0.3661259 &  0.9628654 &  1.0000000\\\\\n\\end{tabular}\n",
            "text/markdown": "\nA matrix: 4 × 4 of type dbl\n\n| <!--/--> | Sepal.Length | Sepal.Width | Petal.Length | Petal.Width |\n|---|---|---|---|---|\n| Sepal.Length |  1.0000000 | -0.1175698 |  0.8717538 |  0.8179411 |\n| Sepal.Width | -0.1175698 |  1.0000000 | -0.4284401 | -0.3661259 |\n| Petal.Length |  0.8717538 | -0.4284401 |  1.0000000 |  0.9628654 |\n| Petal.Width |  0.8179411 | -0.3661259 |  0.9628654 |  1.0000000 |\n\n",
            "text/html": [
              "<table class=\"dataframe\">\n",
              "<caption>A matrix: 4 × 4 of type dbl</caption>\n",
              "<thead>\n",
              "\t<tr><th></th><th scope=col>Sepal.Length</th><th scope=col>Sepal.Width</th><th scope=col>Petal.Length</th><th scope=col>Petal.Width</th></tr>\n",
              "</thead>\n",
              "<tbody>\n",
              "\t<tr><th scope=row>Sepal.Length</th><td> 1.0000000</td><td>-0.1175698</td><td> 0.8717538</td><td> 0.8179411</td></tr>\n",
              "\t<tr><th scope=row>Sepal.Width</th><td>-0.1175698</td><td> 1.0000000</td><td>-0.4284401</td><td>-0.3661259</td></tr>\n",
              "\t<tr><th scope=row>Petal.Length</th><td> 0.8717538</td><td>-0.4284401</td><td> 1.0000000</td><td> 0.9628654</td></tr>\n",
              "\t<tr><th scope=row>Petal.Width</th><td> 0.8179411</td><td>-0.3661259</td><td> 0.9628654</td><td> 1.0000000</td></tr>\n",
              "</tbody>\n",
              "</table>\n"
            ]
          },
          "metadata": {}
        }
      ]
    },
    {
      "cell_type": "code",
      "metadata": {
        "colab": {
          "base_uri": "https://localhost:8080/",
          "height": 175
        },
        "id": "pGKDcTAzy-uO",
        "outputId": "4dd758e8-ef66-47b6-cc0f-eea358b3daf9"
      },
      "source": [
        "# 주성분분석 procmp(독립변수들, center=, scale=)\n",
        "is.pca <- prcomp(iris[,1:4], center=T, scale=T)\n",
        "is.pca"
      ],
      "execution_count": 6,
      "outputs": [
        {
          "output_type": "display_data",
          "data": {
            "text/plain": [
              "Standard deviations (1, .., p=4):\n",
              "[1] 1.7083611 0.9560494 0.3830886 0.1439265\n",
              "\n",
              "Rotation (n x k) = (4 x 4):\n",
              "                    PC1         PC2        PC3        PC4\n",
              "Sepal.Length  0.5210659 -0.37741762  0.7195664  0.2612863\n",
              "Sepal.Width  -0.2693474 -0.92329566 -0.2443818 -0.1235096\n",
              "Petal.Length  0.5804131 -0.02449161 -0.1421264 -0.8014492\n",
              "Petal.Width   0.5648565 -0.06694199 -0.6342727  0.5235971"
            ]
          },
          "metadata": {}
        }
      ]
    },
    {
      "cell_type": "markdown",
      "metadata": {
        "id": "y96WAVE1zflB"
      },
      "source": [
        "- 위의 예는 procmp 함수를 사용해서 iris 데이터에서 주성분 분석을 한다. PC1~PC4의 주성분 확인\n",
        "- PC1부터 PC4까지 변수 중 가장 영향을 많이 주는 것 확인해야 함"
      ]
    },
    {
      "cell_type": "code",
      "metadata": {
        "colab": {
          "base_uri": "https://localhost:8080/",
          "height": 525
        },
        "id": "YFxYMA9AzReh",
        "outputId": "7c36b1a6-4ec7-4444-b53d-29ce31371856"
      },
      "source": [
        "# 가시화\n",
        "summary(is.pca)\n",
        "plot(is.pca, type=\"l\", main=\"PCA\")"
      ],
      "execution_count": 8,
      "outputs": [
        {
          "output_type": "display_data",
          "data": {
            "text/plain": [
              "Importance of components:\n",
              "                          PC1    PC2     PC3     PC4\n",
              "Standard deviation     1.7084 0.9560 0.38309 0.14393\n",
              "Proportion of Variance 0.7296 0.2285 0.03669 0.00518\n",
              "Cumulative Proportion  0.7296 0.9581 0.99482 1.00000"
            ]
          },
          "metadata": {}
        },
        {
          "output_type": "display_data",
          "data": {
            "image/png": "[encoded data removed]",
            "text/plain": [
              "Plot with title “PCA”"
            ]
          },
          "metadata": {
            "image/png": {
              "width": 420,
              "height": 420
            }
          }
        }
      ]
    },
    {
      "cell_type": "markdown",
      "metadata": {
        "id": "lbWKRIB9z-Ca"
      },
      "source": [
        "summary(is.pca)를 확인해보면 PC1이 전체 분산의 72%를 설명하고 PC2가 22%를 설명한다. 총 PC1과 PC2가 94%를 설명한다.\n",
        "\n",
        "주성분 분석을 했으면 이것을 활용하여 서포트 벡터 머신 분석을 할 수 있다."
      ]
    },
    {
      "cell_type": "markdown",
      "metadata": {
        "id": "uFg8hm8M0PW7"
      },
      "source": [
        "#### 2-5. 주성분 분석의 사례\n",
        "- 사람의 얼굴을 인식하는 기술\n",
        "- 코스피 지수, INDEX 지수 등"
      ]
    }
  ]
}