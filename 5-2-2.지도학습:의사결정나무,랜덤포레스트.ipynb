{
  "nbformat": 4,
  "nbformat_minor": 0,
  "metadata": {
    "colab": {
      "name": "5-2-2.지도학습:의사결정나무,랜덤포레스트",
      "provenance": [],
      "collapsed_sections": [],
      "authorship_tag": "ABX9TyPjYjyXb2DZjHfZe7jmBOn4",
      "include_colab_link": true
    },
    "kernelspec": {
      "name": "ir",
      "display_name": "R"
    },
    "language_info": {
      "name": "R"
    }
  },
  "cells": [
    {
      "cell_type": "markdown",
      "metadata": {
        "id": "view-in-github",
        "colab_type": "text"
      },
      "source": [
        "<a href=\"https://colab.research.google.com/github/chohu-boraaaa/ADsP/blob/main/5-2-2.%EC%A7%80%EB%8F%84%ED%95%99%EC%8A%B5%3A%EC%9D%98%EC%82%AC%EA%B2%B0%EC%A0%95%EB%82%98%EB%AC%B4%2C%EB%9E%9C%EB%8D%A4%ED%8F%AC%EB%A0%88%EC%8A%A4%ED%8A%B8.ipynb\" target=\"_parent\"><img src=\"https://colab.research.google.com/assets/colab-badge.svg\" alt=\"Open In Colab\"/></a>"
      ]
    },
    {
      "cell_type": "markdown",
      "metadata": {
        "id": "a-S7je-tHH1k"
      },
      "source": [
        "## 4. 의사결정나무\n",
        "\n",
        "### 1. 의사결정나무(Decision Tree)\n",
        "- 의사결정 규칙을 도표화하고 분류 및 예측을 할 수 있는 데이터마이닝 기법\n",
        "- 나무형태로 분석하는 방법으로 분석과정을 직관적으로 이해하기 쉽기 때문에 설명력이 좋다는 장점 있음\n",
        "\n",
        "![의사결정나무구조](https://media.vlpt.us/images/noooooh_042/post/f57edfce-0f68-45db-ac10-f0ee44b63bee/image-20200923222929061.png)\n",
        "\n",
        "출처 : https://velog.io/@noooooh_042/%EC%9D%98%EC%82%AC%EA%B2%B0%EC%A0%95%EB%82%98%EB%AC%B4\n",
        "\n",
        "- 뿌리마디에는 가장 중요한 분류규칙이 옴\n",
        "\n",
        "#### 의사결정나무 종류\n",
        "\n",
        "##### 1> 분류나무\n",
        "- 특징 : 목표변수가 범주형 변수, 분류를 함\n",
        "- 사용가능한 재귀분할 의사결정 알고리즘 : CART(지니지수 사용), C4.5(엔트로피 사용), C5.0, CHAID(카이제곱 통계량)\n",
        "- 불순도측정 : CART, C4.5, CHAID\n",
        "\n",
        "##### 2> 회귀나무\n",
        "- 특징 : 목표변수가 수치형 변수, 예측을 함\n",
        "- 사용가능한 재귀분할 의사결정 알고리즘 : CART\n",
        "- 불순도측정 : CART\n",
        "\n",
        "### 2. 의사결정나무의 장단점과 활용\n",
        "\n",
        "#### 2-1. 의사결정나무 장점\n",
        "- if~then으로 규칙 생성이 가능하고 이해하기 쉬움\n",
        "- 데이터베이스 SQL을 사용해서 표현 가능\n",
        "- 설명력이 좋기 때문에 많이 사용됨\n",
        "\n",
        "#### 2-2. 의사결정나무 단점\n",
        "- 연속형 변수 값을 예측할 때는 적당하지 않음\n",
        "- 시계열 분석이 어려움\n",
        "\n",
        "#### 2-3. 의사결정나무 활용분야\n",
        "- 통신회사에서 이탈고객을 분류\n",
        "- 신규 신용카드 발급대상을 분류\n",
        "- 은행에서 대출가능한 고객 분류\n",
        "\n",
        "#### 2-4. 의사결정나무 모형 분석절차\n",
        "- 의사결정나무는 초기 의사결정나무를 형성하여 계속적으로 분리해 나감. \n",
        "- 분리과정에서 부적절한 규칙 등을 가지치기한 후 최적 Tree를 구성해야 함\n",
        "\n",
        "##### 1) 의사결정나무 형성\n",
        "- 분석 목적을 정의하고 분석목적에 따라 분리기준과 정지규칙을 지정해서 형성\n",
        "\n",
        "##### 2) 가지치기\n",
        "- 부적절한 규칙이 있으면 제거\n",
        "- 부적절한 추론규칙이 있는 가지 제거\n",
        "- 검증용 데이터를 사용해서 모형의 예측 검토\n",
        "\n",
        "##### 3) 최적 Tree 분류\n",
        "- 의사결정나무의 타당성 평가\n",
        "- 검증용 데이터를 사용해서 교차 타당성 평가\n",
        "\n",
        "##### 3) 해석 및 예측\n",
        "- 의사결정나무를 해석하고 예측모형 설정\n",
        "\n",
        "### 3. 의사결정규칙\n",
        "\n",
        "의사결정나무는 의사결정규칙에 의해 가지치기를 하면서 수행\n",
        "\n",
        "#### 3-1. 분리기준\n",
        "- 목표변수의 분포를 가장 잘 구별해주는 기준\n",
        "- 종속변수의 분포를 잘 구분하는 가에 대한 지표\n",
        "- 가지칠 때는 이지분리, 다지분리로 구분\n",
        "- 이지분리는 CART, 다지분리는 C4.5, CHAID가 됨\n",
        "\n",
        "##### 분리\n",
        "- 이지분리 : 양쪽으로만 분리 ex. CART\n",
        "- 다지분리 : 여러 개로 분리 가능\n",
        "\n",
        "#### 3-2. 불순도 알고리즘\n",
        "- 얼마나 다양한 범주의 객체가 포함되어 있는지 수치로 표현한 것\n",
        "- 불순도 알고리즘을 사용해서 그룹으로 분할하는 기준이 됨\n",
        "- 불순도 알고리즘으로는 지니지수와 엔트로피지수, 정보이익, 카이제곱 통계량이 있음\n",
        "\n",
        "#### 3-3. 정지규칙\n",
        "- 불순도가 덜어지지 않는 경우 분리 중단\n",
        "- 자식노드에 남은 샘플 수가 너무 적은 경우 중단\n",
        "\n",
        "#### 3-4. 가지치기\n",
        "- 의사결정나무의 깊이가 깊어지면 과적합 발생 가능\n",
        "- 따라서 불필요한 마디 제거\n",
        "\n",
        "##### 오분류율\n",
        "- 관측치가 속하는 실제 집단과 다른 집단으로 잘못 분류한 비율\n",
        "- 분류모형의 성과를 판단하는 기준\n",
        "\n",
        "### 4. 재귀적 분할 의사결정나무 알고리즘\n",
        "\n",
        "#### 4-1. CART(Classification And Regression Trees)\n",
        "- CART는 C4.5와 매우 유사한 방법으로 수치적 분할기준으로 사용해서 트리를 형성\n",
        "- 목표변수가 범주형인 경우에 지니지수를 사용하고 연속형인 경우 분산을 사용해 이진분리\n",
        "- 의사결정나무로 분류나무와 회귀나무에 모두 사용 가능\n",
        "- 개별입력변수 및 입력변수들의 선형결합들 중 최적분리를 찾을 수 있음\n",
        "- 지니지수 : 불확실성을 의미하고 0에 가까울수록 좋은 것. 0이라는 것은 100%를 모두 맞춘 것. 평가지수로 지니 불순도를 사용\n",
        "- 학습데이터로 의사결정나무를 성장시키고 검증용 데이터를 이용하여 가지치기를 함\n",
        "\n",
        "##### 지니불순도\n",
        "- 지니불순도는 집합에서는 \"순도\"를 의미하며 파란구슬과 빨간구슬만 있는 것이 순수도가 높은 것\n",
        "\n",
        "![지니불순도](https://img1.daumcdn.net/thumb/R1280x0/?scode=mtistory2&fname=https%3A%2F%2Fblog.kakaocdn.net%2Fdn%2FbUgOap%2FbtqAXhS3sTX%2F7u52vxc5ZJ7uFIcHazRA3k%2Fimg.png)\n",
        "\n",
        "출처 : https://data-science-hi.tistory.com/59\n",
        "\n",
        "- 지니 불순도는 위와 같은 그래프로 표현 가능\n",
        "- 지니 불순도는 0이면 순수도가 가장 높은 것\n",
        "- 지니 불순도 그래프는 상호 대칭구조를 가짐\n",
        "\n",
        "![지니지수공식](data:image/jpeg;base64,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)\n",
        "\n",
        "출처 : https://blog.naver.com/PostView.nhn?isHttpsRedirect=true&blogId=dear_inwoo&logNo=110129190961\n",
        "\n",
        "- pi는 전체집합에서 i집단에 속하는 관측치의 비율\n",
        "- i는 요소들의 집합으로 앞선 예에서는 빨간구슬과 파란구슬만 있으므로 i=2가 됨\n",
        "\n",
        "##### 지니지수 예제\n",
        "\n",
        "###### 1단계 지니지수\n",
        "- CART에서 지니지수를 사용한 분류\n",
        "- 충성고객 5명, 이탈고객 5명이 있고 남녀로 고객을 분류\n",
        "- G(상위) = 1 - (5/10)^2 - (5/10)^2 = 0.5\n",
        "\n",
        "###### 2단계 지니지수\n",
        "- 남자 5명 여자 1명인 집합\n",
        "- G(남) = 1- (5/6)^2 - (1/6)^2 = 0.278\n",
        "\n",
        "###### 3단계 지니지수\n",
        "- 남자 0명 여자 4명인 집합\n",
        "- G(여) = 1 - (0/4)^2 - (4/4)^2 = 0\n",
        "\n",
        "###### 4단계 지니지수\n",
        "- 전체 남자 6명, 여자 4명\n",
        "- G(성별) = (6/10)(0.278) + (4/10)(0) = 0.167\n",
        "\n",
        "#### 4-2. C4.5\n",
        "- C4.5 알고리즘은 1993년 Quinlan에 의해 제안됨\n",
        "- 다지분리가 가능하고 범주형 입력변수의 범주 수만큼 분리 가능\n",
        "- 분류나무 및 회귀나무 분석 가능\n",
        "- 불순도 측정 위해 엔트로피 지수 사용\n",
        "\n",
        "##### 엔트로피\n",
        "\n",
        "![지니엔트로피](data:image/png;base64,iVBORw0KGgoAAAANSUhEUgAAAckAAABuCAMAAAB7jxihAAACLlBMVEX////+/v6+AAAAAAC8AADBAAC6AADac3P++PjT09Py1NT///v//Pz67Oze3t739/fIJCTdkZHlsrIfHx/XbGz34+M8PDzz0tLDEBDXfX3yzc3Zh4fopaWbm5vx8fH33t7AwMDIPDxbW1vo///sxMTYeHjHLCx3d3fGNTWHh4fq6uqtra3UXl5Ois32///Kysr//+f///X/4850OwDOTU3p9PxecYmgfkIeP4C40ujhzbnQSEjnp6f58OL/7tEYLEPZwKQAABiykHPPVFTy49TV6fZmkbGEdGlPd5vH0Nt3gJy6qJadprASExMoKSjc4el4XTw4UnGeinY1b5xuV06Io75AJQujhF0XS33s5M1NVnzOyb6BiJcAFi+kvtdkVGp1iqjIqXdQerN1ZmBKR09pRB8AFUTA2/S4ilSMYC0vP11MIwAAVaTBucJzIwBwtdtzkqMAK2Otl3/Kr5M7AACi3f/65rElAABwX0lMkcc1FADux4YAImcVGicvLzcAAFXew5qKxfKXUCMcAAALL1uhlYyody4AHXajWgAAM4drTzOqbhU0IzTLk1HPyagmGT8AACpZAAA9jcE8Gx/dvZOPx9lLNySVbVcARZfxuncAAD3/+LwjAEWCVRM/dqfK//+ye1CEqtJmKwA4ACwhO0PXnnI8KwA4lcw/RnFiRRs2XHOekZVkYn4aQFpjNCFKGAD0wplzSkpeR0xtset5UEFFNUxrdYKMQw9URi+AbnzxONJwAAAQqklEQVR4nO2djX/TxhnHT7KdKJYVv8wmzqtj6jhvnhMFOxtK5JpYjmPsERIakuBgSClv6dgogUDZSulo2g66rVs72Lq1W7t1Ky2MvbSs/He705sl2XJcEnDC7ssH6+VOJ0c/P889d7IfAYDBYDAYDAaDwWAwGAwGg8FgMBhMBfimeL3fAmYr4B5mpur9HjBbAJ/Zy2fr/SYwWwA36qz3W8BsCdz+qIBt8lmAzvXnp+v9JjBbAlHvN4DZJEK3DmyYO5YJyw++c+A7EhaLZVJrm1QTFvbbQTGUdstHGcoZxvHEzs0ftMyk5XVh1nIoqinq73xhLlrxKExlPMFx7VY4pC92uMfs0lrAbd/yk3OHLccVuej5Bc1Mz+L+ePIInvnZGEcsIsGMk24oV59P2t/R4BGXnpRU3ANabW1Skaehw7w9qpDpXZoeGDK1oq6KY0Z6wnK0qGwIx9KlEsIJkser2iSd7J8zl5oW1vvzadNSTjkru/wicPC5KnW3ORRps5Hwv82HlKR6SNneFCXdNqncVVJynDRXkjtxPg6EzK69Jmcr5F6qXMSetJxSruHw7GltET9Y1STZMwvdZxf0158tKGfh51fyuZd/qCulhXPymjBv+a5S8Uc/Zpct5wf3vLJDpSRa7G0uMmC3A0lJW0DaryjJ2O0eMmK3BwhVyQjZJ63wF5YMra2+JH7EV1eeq3w2qol73kTk5FXLcVkxOqdVkj8Xb65mk8mLl8Da5R9rj8hdsbwqrbJnoDDsmf9oSmkuc/X78qH3Ol9WlPzJT9Ps916ES4u2qZ0FFSbRorKSkIC1Eb46JCUZT5gM21weBq4n5u/pW0q+Jvmq5Jy07ehySpRcasJMSfqC5b2idgd0q8DpBPyda7uqeVd2+fXnAPtf1eoobn7fS+cVu7p++Q39WfiJq9dGlbdAgJE9spL0zyalk6zd2MFKuqxoYaqk3eoFspK+jliDzW0f91vDHQFAd3XpGlo8OSVdjQHZuIROhawyrjBVEsWvb2odm7CeLXTm4/zg4GC1KTz2rbejgH3n59KZhdzN589nVW9M33pb6x34wp0bo7qOUFVy7V1Z8l/sCO/q81XcS5LI2kyVdJN+ICtpt5LtqA2f2096yhpatRhUcnQpGG1SWO+VKar2lrhomSoZH9/9y1/lBy58stHfxN/6uaiYeCT7zntF7acr8evfaLbo5RuT03rzVpSkP1uQJF97/5PtP9EUClut/vLrT/WRZDhgrmSbnyS9lGyT4wGKkYBrhoYcZ1+BxuBsGhoako2CHxpqEhma3tgm0fyAZkqAz34wEwcThzb6q/hbbxOqknQy8/5otjST8JN9v4Xu98DKJWlTmL29UtRpqSiZ2CN1pYl/bPjRqT8tfhSm2oxSUl6y0W0d8ylKimbL+FQl7WGyI0W2OqCSLS2xVAwivYwZW3LsQZfdWTj4Xl7xrqX5txqUpO+MaoJUgp6fjNLzsMnmqqEr/xZ0oPQ7v5NPwBYuvHx/STnH7z+Ea3+4PKmKB73v0YfFUoOKktf/KPrU4ZNTO2ASohWNNWxkitHtpcbIiAM5UGUUEu7rC4f9sXarJFSLjRwHjiAZgbFrS1tfEBImXeLCgwISDY6PPkYL9s5UlUtvriQ78YXSQ4n9bOKb04A6WQT0ujaSJYzDUXb5wz8B9kcaL+pIXjmwIpmWqOSaLpKihdkD19RvJshK0rc+Rp8E9s8fw0/Fdp+GYGKSkq423e7xBigkIDpsIVHJdlc4HA6mGjvckk06IiSa+WFSfUxpZkAZTybOHtG1tfohkiJ5o5qDShw1U3L1viIkO4vqcO+nQRI62GbdtGvyoTEguX7xDbD2R32rwqz0HtDohP7sldP6I/jcI2V15NMXxXp/EcX+4N25oaH574LtDZOSlWzR7XaERBt1BETvCpiAD8JQUGF5PBkSZ1sZHyhXkp/fr2uLnZjJd68PPjIP/vj1E9d2L1X80CdXVDH4DGph9a9LuWNpwK9OaUOQz05dMhzInjnVf/LVyk6RPXO098rfFszeUCJz27JvNxT9F2IV/iML4u+mb3+b4JaUbDSbBxeVVNHErhKOciXLER77jtTiuyUXmPwcas3OTwrdcdTknKYa/eeF8kkHoVuRin7rNemGyg/kmQEYAqdZ5S3Rq1fl+y2f6xsY3glxTgkmaCVJ0h8wK++oWUlrZSUJorRCiC8IZVVaquWEthyKcbMkpHB3AVoY/xWyURiW5rJOVFMqGzlm8JQG+GaZinavlho+bh+8azT07Q3T6nI1VhxRinj8WoE8xiDX0e6Sp2RDtnGwxfAHvxiSKVw5YIHhB5/ZJfWI/JdaM6e6zJrYBOyZH25cCVMTyd06dLFmLv+kz05XH+dgvgUOpw7dLItz+8+5YMrBX3h9RuC/xH7u2YAdwK70mYCfNZ9ex9QdQrta1eTYptxctXLMToFgv9wJd3kxGyMsNT+JkT/mqcPdy+6A24OYjaHxj9MxGAwGg8FgMBgMBoPBYDAYDAaDwWAw2w3Nl0EIzYu6ThgqaasT5d8lqfTdEvwFryeAIlCZaNrCykrShcy9ODBRUm1Sc6S+SczWsgkludHmzGlgrqS0Dyv5lCi/wjUqCdjZovTldKzktuCxbVL8ZSxbzbtK+7CST4nHV5Kd3St04n5y20CUbdSkJIJfN/yivZJNltlo2UkxWwJRK0C76pTyMjnFJUqaZlKzhmYxW0XJFZb8oHR9dX5RZ5OLX+3SMRpV2jJ4V4IwtFLeiWK2isfpJ9kJi2W0SWb9Bcv9uFIdRzz147EiHv6gZUX9rQh/8Pm0Uh0raQbDUAyzcTWR8ppqjnQHZXrtHi/iGbmKsqLLO0dewkqaw3g8Hh9wjMU6yFaUYcku40MXoUUh4AAEJQNCDRHxUCUZIQVIm5xTxOM1zZFOAKogZ7GTf/1RU+wK/StKaC+u03eKoHTkBvOuz7SSDmP6R7hrjLSS4QARi3X42wHwpcISrgiyO5cC3AqlUpEU+t/aRnrFQ91BlIowFnQDv0tW0m1M46MCTYZqOns/PzTUffdQtPaQE/rX+3vlKBVMFA3xKqAvnI/XFsOaXxaa6zTN8sPKCXzMDh8+V4ffJLUErVbjEweAl/SG2m0xSlYy0OfyNiK87Uj1RokecgwpaSNTKb8t2C4rSbhTkSAZjqTGS0q2W01z9aAh/j/EtJ9ckagxdkVwhy0zcXldmFbaUmySz4zGNxm7Dn80lXtgSJfGD8kHJD7dt7v3yo1DusxcfEH28vzqg++bJAp/ggRcYlZQg5SxcABQEX9jWFYy7K10LFKSYIJWikn1tYGQpCQgHGDc2g4cDlVJj4uMSUm4EkvGRMnwYl5/rQgcXaCQLfN65koSNPKvlXyllHSLG43rxZNPpteumpK/f/M0WD6ltUohd/dDJQvJrYU0oH/2qrZ0/eY+KadWItN/tw5Ktkt56yI6D+uIBaEGjbBIsUl/n0i4EdULBoNoI4iUhHUbAEj1BVQlAcp8JqZIE5V0tERs/j6bvxGFP2uWc4bzozEFjEO5Ikr6iS4s36+wlJZrGI8QX/izFjmVqFSBXS86uf60rDknJoVVMq3DJSEn8IGel8tHuf6NUhcMn4UGx/1aTXpPc1cOrKiPrRj+dBJKJajxs0MslZ0tNTD8vaevpC9WMZdkyuaBbjccCqreNeJFRETvStrkx4W0QiWpCkoimwSSkqGg1dbTBsYjJMohSw8YU+sQQLg7M5iTngWCrgQ9oOKUawC+e1DmXFy1w8XDFillrOxuu68sZTnUjqIkm+vtf5iFH5VCb2em931Fdq77zmheOLGBlImPXoyCkT1idlBACxcOlxL9AjGbNvzwya6XFnL6UlAPJU2ygnoaXN6gtRUo/WQ4QhEOhHjVyKDPoW5VUJJKkTEUGSElPWRPGxqLUG0xW6XxDLyyl4tNq9I0jZl3pZqVeYBpp7oT+tdi6Sj2y4Gbc4D/Rg5jkZLoIT/cPWjvcJTCfa0mtM813zkeZecnq18YMcWrouT1BwtZ3RTvP2+s9N5WcjZzLxtK66KkkhXUa4hfPbHgGOzr1IjHJnnXvgjq+UgyOCaCfHC5dyUaySDpZUQlKZ+W8iCZIOgzC1HgmwZCVoolR5Sk9r0P06BCgKkGndwLSsgqNkMgwVAWUacTFY7G+St70Q2TOZCciQL+X3uBc6BL7DaFb05D3zwJKGeVjlKnJMqUPjdQin7oiTdP8/9S8uglDKV1UtLXJ0Y8Lcb9lMcOVCV9Y/Kwwz+GIhe/X37CDxwvUr6glWFiYY/dIytJtZMpn9cKe1S/i+losEJIkhQXlcYiiQeTYm85mBavq3HwJwkl/xPDGXmbv3lcmRuQYtdl6GuvP38a5NAVRkq+kEXPG5kEi/8ugtWZNDXY+Wgvqp9ciYPFB0WQ/KTKwDKxR/SuSqZlIXfw6Ghe7SaRUoWSHYql50rbdVES+Lw2W6pMSMAEGxk4rBzrsKEuj1EB0hbsRNEWAcb7bGQwCN1zOGKTxpNe6HwB47V6KWiTLa3tkBgZQ4v2SllkPziFehgaXv+aZ9ARUl51aX0CaUefnYMjy6koEB9XolWSzT3qhaHQL490rR5BlnNhikDKgq54FSXFiGekFPEASpi/8dfj0gGiwmxOk1xGLB1VHxxVFyVN8PnRJEDA52v3AHuLXaUlEEBboT6XuOXziKFQY09Pa7tkk3AMipyoo0czMzBulUc5a+8ZYle+cPB+cWio8JU4j1rzbB0MeI88p+xkM0jJ4QfHu5LH0nRSvGkJlWTR1A/6isjI7bmmpi7Q1QR7zihK27wQF6CZcg81ndtq2dPUUJ705df/pN3F5o5JQRh38Q3Yef7U8NSu1RNKZt/tpaSrNDCxaXGJ0S5Jys80oMTQB9VS+kl5+lUzngQd8iMNwNrXBiXVJ05kS0PFmmbrVtLqzoQ478pdy6Nxi5BF6dL52VN5InkkDZIw4hEy+3O7ds8hw0fmL9zMo5CW7+7XKPFOWVb0xJ6ZztufVLw2w2ctX/RmLh8qS0kiu4tc5rLl4fGKh9YBnys47hEJET2NGtwduq1S/nTNKESmXEm6SlrW2u9Pwq6u9Gw8gp8X74UsT0VR487E/qg4bOmO0rkTvQ+nAY9sk0h+DQNYlHEbJD9Po+dg0M1LJe9K/3eybHqNLQwq6nK35Tuhb4o2SXc5tU8gGrkpl167JP+R6Pb3tkkG5bNZJRpcpjnS9YSsRiVJv+GxleXUPtOqnSrlDk82KWm1179B03a0cHNqWlR54tIAoczuiPDzo91D3evno8n9TfkoEA7OZMVCLj+thq7/PFI1oRqrDIKylT6Iaun2zBtEhRTayscOFQm0G+Vyu+URZKjV7NNQs5JaUfmvLDrgKIMuDA5mxbJH2Wl9q4BB8wrZ+OJFi2UKOlepIgx6lrKq2sy21GBnUemWUw39pElb0lyctl3jiLHU5GIep3LeSpQrWyaatrDCDLp6DNBW10yWK8v/9zvNT43yK/wtlCT0uuDvDNSTzdgkvZ5VK6g7sZJ14jH7SWl7oEvXRLVvLpc3idlSHid2VWLS2r/iUa0VzBaxCZsUsv1xXRPYJuvJJvpJZ3JOf1cT95P1ZBNK0hN7B9QKaiWsZJ3YhJLDj7qxktuHzdikdAMFK7k92Mx4UltL3YmVrBObUbJimEoYmsRKYjAYDAaDwWAwGAzm/5X/AeF/wALiAxkIAAAAAElFTkSuQmCC)\n",
        "\n",
        "출처 : https://m.blog.naver.com/shoutjoy/221885928247\n",
        "\n",
        "##### 정보가치\n",
        "IG = E(before) - E(After)\n",
        "\n",
        "##### c4.5 분석 예제\n",
        "![예제](https://blog.kakaocdn.net/dn/buEFw0/btqYZ7zEZhA/6t3zrsc4Gy301AMBb0Puk1/img.jpg)\n",
        "\n",
        "출처 : https://bigdaheta.tistory.com/26\n",
        "\n",
        "."
      ]
    },
    {
      "cell_type": "markdown",
      "metadata": {
        "id": "fcSxG64sX0M2"
      },
      "source": [
        "#### 4-3. CHAID(CHi-squared Automatic Interaction Detection)\n",
        "- 1975년 J.A.Hartigan에 의해 개발된 알고리즘\n",
        "- 1991년 Biggset al에서 Exhastive CHAID 알고리즘으로 발전\n",
        "- 명목형, 순서형, 연속형 등 모든 종류의 목표변수와 분류변수 적용 가능\n",
        "- 이진트리 구조로 모형 형성하는 방법 제공\n",
        "- Chi-square 검정 또는 F-검정을 사용해서 데이터를 다지분리하고 변수들 간의 관계는 의사결정트리를 통해 표현\n",
        "- 가지치기가 없고 분류나무에서만 사용 가능\n",
        "- 불순도 알고리즘은 Chi-square, F통계량 이용\n",
        "\n",
        "##### CHAID 공식\n",
        "![CHAID](data:image/jpeg;base64,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)\n",
        "\n",
        "출처 : https://blog.naver.com/PostView.nhn?isHttpsRedirect=true&blogId=dear_inwoo&logNo=110129190961\n",
        "\n",
        "- fo : 실제관측빈도\n",
        "- fe : 기대 빈도\n",
        "\n",
        "##### 재귀적 분할 의사결정 알고리즘 비교\n",
        "\n",
        "|구분|CART|C4.5|CHAID|\n",
        "|------|---|---|---|\n",
        "|분류나무|가능|가능|가능|\n",
        "|회귀나무|가능|가능|불가능|\n",
        "|예측변수|범주 및 수치|범주 및 수치|범주형만 가능|\n",
        "|불순도 알고리즘|지니지수|엔트로피|카이제곱통계량|\n",
        "|분리|이지분리|다지분리|다지분리|\n",
        "|정지규칙|모형개발 후 가지치기|모형개발 후 가지치기|가능|\n",
        "|교차검증|학습 데이터로 나무 생성 검증 데이터로 검증|학습 데이터만 사용|없음|"
      ]
    },
    {
      "cell_type": "markdown",
      "metadata": {
        "id": "NR5TkMkraDrN"
      },
      "source": [
        "### 5. 분류나무\n",
        "- 목표변수가 범주형 변수로 좋음, 나쁨 혹은 우수 및 불량으로 만들어짐\n",
        "- 분류나무 알고리즘은 CART, C4.5, CHAID가 있음\n",
        "\n",
        "![분류나무](https://img1.daumcdn.net/thumb/R800x0/?scode=mtistory2&fname=https%3A%2F%2Ft1.daumcdn.net%2Fcfile%2Ftistory%2F997DE7375A43586A28)\n",
        "\n",
        "출처 : https://dreamlog.tistory.com/576\n",
        "\n",
        "### 6. 회귀나무\n",
        "- 목표변수가 연속변수로 총구매액, 매출액 등으로 만들어진다.\n",
        "- 목표변수의 평균에 기초하여 트리 형성\n",
        "- 목표변수가 수치형 변수\n",
        "- 분류 알고리즘으로 CART를 사용하고 CART 방법은 F통계량과 분산의 감소량을 이용\n",
        "- CART는 평균을 이용하여 집단의 평균을 가지고 구분하기 때문에 Leaf node(단말노드)는 평균값을 가진다.\n",
        "\n",
        "![회귀나무](https://blog.kakaocdn.net/dn/cvOL4b/btqYJ8UbBGP/es4XR39Lxdr043Eqh2IVlK/img.jpg)\n",
        "\n",
        "출처 : https://bigdaheta.tistory.com/28\n",
        "\n"
      ]
    },
    {
      "cell_type": "markdown",
      "metadata": {
        "id": "vZH8FAmrbTAm"
      },
      "source": [
        "### 7. R언어 사용한 의사결정나무\n",
        "- 의사결정나무 패키지 : \"tree\", \"rpart\", \"party\"\n",
        "- 오분류율 교차표 생성 패키지 : \"caret\""
      ]
    },
    {
      "cell_type": "code",
      "metadata": {
        "colab": {
          "base_uri": "https://localhost:8080/"
        },
        "id": "6DllQ-uTbu77",
        "outputId": "e94b8911-30e0-4f8f-d1c2-864afd812961"
      },
      "source": [
        "install.packages(\"tree\")\n",
        "install.packages(\"caret\")"
      ],
      "execution_count": 1,
      "outputs": [
        {
          "output_type": "stream",
          "text": [
            "Installing package into ‘/usr/local/lib/R/site-library’\n",
            "(as ‘lib’ is unspecified)\n",
            "\n",
            "Installing package into ‘/usr/local/lib/R/site-library’\n",
            "(as ‘lib’ is unspecified)\n",
            "\n",
            "also installing the dependencies ‘numDeriv’, ‘SQUAREM’, ‘lava’, ‘prodlim’, ‘iterators’, ‘gower’, ‘ipred’, ‘timeDate’, ‘foreach’, ‘plyr’, ‘ModelMetrics’, ‘reshape2’, ‘recipes’, ‘pROC’\n",
            "\n",
            "\n"
          ],
          "name": "stderr"
        }
      ]
    },
    {
      "cell_type": "code",
      "metadata": {
        "colab": {
          "base_uri": "https://localhost:8080/"
        },
        "id": "kk1DA6tubzvr",
        "outputId": "26c507a5-7543-49a2-d26a-0a889279506d"
      },
      "source": [
        "library(tree)\n",
        "library(caret)"
      ],
      "execution_count": 2,
      "outputs": [
        {
          "output_type": "stream",
          "text": [
            "Loading required package: lattice\n",
            "\n",
            "Loading required package: ggplot2\n",
            "\n",
            "Warning message in system(\"timedatectl\", intern = TRUE):\n",
            "“running command 'timedatectl' had status 1”\n"
          ],
          "name": "stderr"
        }
      ]
    },
    {
      "cell_type": "code",
      "metadata": {
        "id": "a7cd72YecsT0"
      },
      "source": [
        "attach(iris)"
      ],
      "execution_count": 3,
      "outputs": []
    },
    {
      "cell_type": "code",
      "metadata": {
        "id": "BBaATc_2cw56"
      },
      "source": [
        "# 학습데이터 2/3, 검증데이터 1/3으로 분할\n",
        "set.seed(2000)\n",
        "N <- nrow(iris)\n",
        "tr.idx <- sample(1:N, size=N*2/3, replace=FALSE)"
      ],
      "execution_count": 10,
      "outputs": []
    },
    {
      "cell_type": "code",
      "metadata": {
        "id": "N6WLF3xsc8ta"
      },
      "source": [
        "train <- iris[tr.idx,]\n",
        "test <- iris[-tr.idx,]"
      ],
      "execution_count": 11,
      "outputs": []
    },
    {
      "cell_type": "code",
      "metadata": {
        "colab": {
          "base_uri": "https://localhost:8080/",
          "height": 50
        },
        "id": "L5-4GEaUdCZn",
        "outputId": "e1a9054e-5b9a-44ac-f814-f6808dd17481"
      },
      "source": [
        "dim(train)\n",
        "dim(test)"
      ],
      "execution_count": 12,
      "outputs": [
        {
          "output_type": "display_data",
          "data": {
            "text/plain": [
              "[1] 100   5"
            ],
            "text/latex": "\\begin{enumerate*}\n\\item 100\n\\item 5\n\\end{enumerate*}\n",
            "text/markdown": "1. 100\n2. 5\n\n\n",
            "text/html": [
              "<style>\n",
              ".list-inline {list-style: none; margin:0; padding: 0}\n",
              ".list-inline>li {display: inline-block}\n",
              ".list-inline>li:not(:last-child)::after {content: \"\\00b7\"; padding: 0 .5ex}\n",
              "</style>\n",
              "<ol class=list-inline><li>100</li><li>5</li></ol>\n"
            ]
          },
          "metadata": {}
        },
        {
          "output_type": "display_data",
          "data": {
            "text/plain": [
              "[1] 50  5"
            ],
            "text/latex": "\\begin{enumerate*}\n\\item 50\n\\item 5\n\\end{enumerate*}\n",
            "text/markdown": "1. 50\n2. 5\n\n\n",
            "text/html": [
              "<style>\n",
              ".list-inline {list-style: none; margin:0; padding: 0}\n",
              ".list-inline>li {display: inline-block}\n",
              ".list-inline>li:not(:last-child)::after {content: \"\\00b7\"; padding: 0 .5ex}\n",
              "</style>\n",
              "<ol class=list-inline><li>50</li><li>5</li></ol>\n"
            ]
          },
          "metadata": {}
        }
      ]
    },
    {
      "cell_type": "code",
      "metadata": {
        "colab": {
          "base_uri": "https://localhost:8080/",
          "height": 263
        },
        "id": "wR3LclW0dMnj",
        "outputId": "db05cd43-5840-44dc-bc4c-4caac2facca0"
      },
      "source": [
        "# tree(종속변수~x1+x2, data=)\n",
        "treedata <- tree(Species~., data=train)\n",
        "treedata"
      ],
      "execution_count": 14,
      "outputs": [
        {
          "output_type": "display_data",
          "data": {
            "text/plain": [
              "node), split, n, deviance, yval, (yprob)\n",
              "      * denotes terminal node\n",
              "\n",
              " 1) root 100 219.600 versicolor ( 0.32000 0.35000 0.33000 )  \n",
              "   2) Petal.Length < 2.45 32   0.000 setosa ( 1.00000 0.00000 0.00000 ) *\n",
              "   3) Petal.Length > 2.45 68  94.210 versicolor ( 0.00000 0.51471 0.48529 )  \n",
              "     6) Petal.Width < 1.75 37  20.820 versicolor ( 0.00000 0.91892 0.08108 )  \n",
              "      12) Sepal.Width < 2.65 13  14.050 versicolor ( 0.00000 0.76923 0.23077 )  \n",
              "        24) Petal.Length < 4.2 8   0.000 versicolor ( 0.00000 1.00000 0.00000 ) *\n",
              "        25) Petal.Length > 4.2 5   6.730 virginica ( 0.00000 0.40000 0.60000 ) *\n",
              "      13) Sepal.Width > 2.65 24   0.000 versicolor ( 0.00000 1.00000 0.00000 ) *\n",
              "     7) Petal.Width > 1.75 31   8.835 virginica ( 0.00000 0.03226 0.96774 )  \n",
              "      14) Sepal.Length < 5.95 5   5.004 virginica ( 0.00000 0.20000 0.80000 ) *\n",
              "      15) Sepal.Length > 5.95 26   0.000 virginica ( 0.00000 0.00000 1.00000 ) *"
            ]
          },
          "metadata": {}
        }
      ]
    },
    {
      "cell_type": "code",
      "metadata": {
        "colab": {
          "base_uri": "https://localhost:8080/",
          "height": 437
        },
        "id": "nvlFTKridgJb",
        "outputId": "c208ebf1-c7df-43a7-bb87-951740c4c1f2"
      },
      "source": [
        "# 의사결정나무 표시\n",
        "plot(treedata)\n",
        "text(treedata, cex=1)"
      ],
      "execution_count": 15,
      "outputs": [
        {
          "output_type": "display_data",
          "data": {
            "image/png": "[encoded data removed]",
            "text/plain": [
              "plot without title"
            ]
          },
          "metadata": {
            "image/png": {
              "width": 420,
              "height": 420
            }
          }
        }
      ]
    },
    {
      "cell_type": "code",
      "metadata": {
        "colab": {
          "base_uri": "https://localhost:8080/",
          "height": 683
        },
        "id": "j9eyrFXhd0hZ",
        "outputId": "112a2bf1-f237-45af-f164-9373917cab8a"
      },
      "source": [
        "# 최적 K 구하기\n",
        "cv.tr <- cv.tree(treedata, FUN=prune.misclass)\n",
        "cv.tr\n",
        "plot(cv.tr)"
      ],
      "execution_count": 18,
      "outputs": [
        {
          "output_type": "display_data",
          "data": {
            "text/plain": [
              "$size\n",
              "[1] 6 5 3 2 1\n",
              "\n",
              "$dev\n",
              "[1]  9  9  8 66 75\n",
              "\n",
              "$k\n",
              "[1] -Inf  0.0  0.5 29.0 32.0\n",
              "\n",
              "$method\n",
              "[1] \"misclass\"\n",
              "\n",
              "attr(,\"class\")\n",
              "[1] \"prune\"         \"tree.sequence\""
            ]
          },
          "metadata": {}
        },
        {
          "output_type": "display_data",
          "data": {
            "image/png": "[encoded data removed]",
            "text/plain": [
              "plot without title"
            ]
          },
          "metadata": {
            "image/png": {
              "width": 420,
              "height": 420
            }
          }
        }
      ]
    },
    {
      "cell_type": "markdown",
      "metadata": {
        "id": "BquoZHwDeKKM"
      },
      "source": [
        "최적 K는 misclass가 급격하게 낮아지는 3이되고\n",
        "size는 분할 수이며 iris 꽃은 3개로 구분됨"
      ]
    },
    {
      "cell_type": "code",
      "metadata": {
        "colab": {
          "base_uri": "https://localhost:8080/",
          "height": 437
        },
        "id": "2CelS-OQeIRn",
        "outputId": "e3cfb442-ed55-4a02-dac0-1c5eaf078855"
      },
      "source": [
        "# 최적 k=3으로 설정하여 의사결정나무 작성\n",
        "prune.tr <- prune.misclass(treedata, best=3)\n",
        "plot(prune.tr)\n",
        "text(prune.tr, pretty=0, cex=1)"
      ],
      "execution_count": 19,
      "outputs": [
        {
          "output_type": "display_data",
          "data": {
            "image/png": "[encoded data removed]",
            "text/plain": [
              "plot without title"
            ]
          },
          "metadata": {
            "image/png": {
              "width": 420,
              "height": 420
            }
          }
        }
      ]
    },
    {
      "cell_type": "markdown",
      "metadata": {
        "id": "ido4SMObexkA"
      },
      "source": [
        "## 5. 랜덤포레스트\n",
        "\n",
        "### 1. 랜덤포레스트란\n",
        "- 2001년 Leo Breiman에 의해 제안된 의사결정나무의 과적합 문제를 해결한 알고리즘으로 앙상블 기법 사용\n",
        "- 분석과정에서 다수의 결정트리로부터 분류하거나 평균 예측치 분석\n",
        "- 여러 개의 의사결정나무를 만들고 투표를 통해 다수결로 결과 결정\n",
        "- 배깅 기법 중 하나\n",
        "\n",
        "### 2. 앙상블\n",
        "- 여러 개 학습모델을 결합하여 데이터 분석\n",
        "- 여러 개의 분류모델을 활용하여 최적의 모델을 선택하거나 여러 개의 변수를 입력하여 어떤 변수가 가장 좋은 변수인지 확인\n",
        "- 학습 데이터에서 리샘플링하여 다수의 의사결정나무를 만들고 여러 모델의 예측결과를 종합해서 정확도 높이는 방법\n",
        "- 예측력은 우수하나 설명력이 떨어짐\n",
        "\n",
        "#### 2-1. 앙상블 방법\n",
        "- 여러 분류 알고리즘을 사용해서 최적의 분류모델을 사용 : Voting\n",
        "- 하나의 분류 알고리즘을 여러 번 반복측정 : Bagging, Boosting\n",
        "\n",
        "#### 2-2. 앙상블 기법\n",
        "- 투표(Majority Voting) : 동일한 훈련 세트를 하나 두고 여러 개의 분류모델을 사용해서 분석\n",
        "- 배깅(Bagging) : 하나의 모델을 사용하지만 훈련세트를 여러 개 샘플로 만들고 알고리즘마다 다른 훈련세트를 적용\n",
        "- 부스팅(Boosting) : 샘플을 선택할 때 잘못 분류된 데이터 50%를 재학습하거나 가중치를 사용\n",
        "\n",
        "### 3. 투표(Majority Voting)\n",
        "- 하나의 훈련세트를 사용하고 여러 개의 분류모델을 사용해서 분석하는 방법\n",
        "- 하나의 훈련세트는 동일 데이터를 각각 모델에게 동일하게 넣어줌\n",
        "\n",
        "![Voting](https://blog.kakaocdn.net/dn/dyuTYx/btqZpUObch5/S12qkhE6cBwgRn6TR9G2S1/img.jpg)\n",
        "\n",
        "출처 : https://bigdaheta.tistory.com/32\n",
        "\n",
        "- 투표에서 각각의 분석모델의 예측값이 다르면 가장 많이 나온 결과를 선택\n",
        "\n",
        "### 4. 배깅(Bagging)\n",
        "- 하나의 모델을 사용하지만 훈련세트를 여러 개의 샘플로 만들고 알고리즘마다 다른 훈련세트를 사용하는 방법\n",
        "- 부트스트랩을 실시하는데 데이터로부터 복원 추출\n",
        "- 데이터 추출 시 중복을 허용하므로 훈련세트에서 다양한 데이터 추출\n",
        "\n",
        "![Bagging](https://blog.kakaocdn.net/dn/d2c03C/btqZqptGnmi/BGZqkZ2extgpoUgVNW5G3K/img.jpg)\n",
        "\n",
        "출처 : https://bigdaheta.tistory.com/32\n",
        "\n",
        "### 5. 랜덤포레스트\n",
        "- 배깅 방법 중의 일종으로 단일 분류 알고리즘인 의사결정나무만을 사용\n",
        "- 부트스트랩 기법을 사용해서 여러 개의 샘플 추출하고 모델 구축\n",
        "- 최종 결과는 분류일 때는 투표 방식 사용하고 예측일 때는 평균화 사용\n",
        "\n",
        "![랜덤포레스트](https://encrypted-tbn0.gstatic.com/images?q=tbn:ANd9GcT7EJcj74BClx4x4X5RaNdk6n0IYiwm6SkmVg&usqp=CAU)\n",
        "\n",
        "출처 : 랜덤포레스트를 이용한 대설피해액에 대한 범주형 예측 및 개선방안 검토\n",
        "이형주･정건희 | 호서대학교 토목공학과\n",
        "\n",
        "### 6. 부스팅(Boosting)\n",
        "- 샘플을 추출할 때 잘못 분류된 50% 데이터를 재학습\n",
        "- AdaBoost는 전체 훈련 세트를 사용하고 잘못 분류된 데이터에 가중치 적용\n",
        "- 부스팅 방법은 실제 적용할 때 가중치 구현이 어려움\n",
        "\n",
        "![부스팅](https://blog.kakaocdn.net/dn/bZaE8F/btqzOlQjTa3/Yadk0nZsSokfCd2OUXUM3k/img.jpg)\n",
        "\n",
        "출처 : https://lsjsj92.tistory.com/544\n"
      ]
    },
    {
      "cell_type": "markdown",
      "metadata": {
        "id": "ZQMc8tRbieGN"
      },
      "source": [
        "### 7. R을 사용한 랜덤 포레스트\n",
        "- 랜덤 포레스트 분석을 위해서는 randomForest 패키지 설치 필요"
      ]
    },
    {
      "cell_type": "code",
      "metadata": {
        "colab": {
          "base_uri": "https://localhost:8080/"
        },
        "id": "Swx-jGkMings",
        "outputId": "03b25c0e-53ea-43eb-dfa9-f9d2da6711d0"
      },
      "source": [
        "install.packages(\"randomForest\")"
      ],
      "execution_count": 20,
      "outputs": [
        {
          "output_type": "stream",
          "text": [
            "Installing package into ‘/usr/local/lib/R/site-library’\n",
            "(as ‘lib’ is unspecified)\n",
            "\n"
          ],
          "name": "stderr"
        }
      ]
    },
    {
      "cell_type": "code",
      "metadata": {
        "colab": {
          "base_uri": "https://localhost:8080/"
        },
        "id": "E8gxP0RuirFL",
        "outputId": "fd8f53ab-d8d7-44c7-e5f1-c20328dbc5dd"
      },
      "source": [
        "library(randomForest)\n",
        "library(caret)"
      ],
      "execution_count": 21,
      "outputs": [
        {
          "output_type": "stream",
          "text": [
            "randomForest 4.6-14\n",
            "\n",
            "Type rfNews() to see new features/changes/bug fixes.\n",
            "\n",
            "\n",
            "Attaching package: ‘randomForest’\n",
            "\n",
            "\n",
            "The following object is masked from ‘package:ggplot2’:\n",
            "\n",
            "    margin\n",
            "\n",
            "\n"
          ],
          "name": "stderr"
        }
      ]
    },
    {
      "cell_type": "code",
      "metadata": {
        "colab": {
          "base_uri": "https://localhost:8080/",
          "height": 246
        },
        "id": "KSeoMPxoi0Tf",
        "outputId": "42d7cad9-c67f-42a1-9fef-83ba806e45f5"
      },
      "source": [
        "# randomForest(종속변수~x1+x2+x3, data=)\n",
        "rf <- randomForest(Species~., data=train, importance=T, mtry=4)\n",
        "rf"
      ],
      "execution_count": 22,
      "outputs": [
        {
          "output_type": "display_data",
          "data": {
            "text/plain": [
              "\n",
              "Call:\n",
              " randomForest(formula = Species ~ ., data = train, importance = T,      mtry = 4) \n",
              "               Type of random forest: classification\n",
              "                     Number of trees: 500\n",
              "No. of variables tried at each split: 4\n",
              "\n",
              "        OOB estimate of  error rate: 7%\n",
              "Confusion matrix:\n",
              "           setosa versicolor virginica class.error\n",
              "setosa         32          0         0  0.00000000\n",
              "versicolor      0         32         3  0.08571429\n",
              "virginica       0          4        29  0.12121212"
            ]
          },
          "metadata": {}
        }
      ]
    },
    {
      "cell_type": "markdown",
      "metadata": {
        "id": "nPtnMT_EjFaj"
      },
      "source": [
        "veriscolor 3개 오분류\n",
        "\n",
        "virginica 4개 오분류"
      ]
    },
    {
      "cell_type": "code",
      "metadata": {
        "colab": {
          "base_uri": "https://localhost:8080/",
          "height": 609
        },
        "id": "X80lVIvgjCT3",
        "outputId": "35a88802-d79e-4752-f470-1883f5d84902"
      },
      "source": [
        "# 중요변수 분석\n",
        "randomForest::importance(rf)\n",
        "varImpPlot(rf, main=\"중요변수 분석\")"
      ],
      "execution_count": 23,
      "outputs": [
        {
          "output_type": "display_data",
          "data": {
            "text/plain": [
              "             setosa   versicolor virginica MeanDecreaseAccuracy\n",
              "Sepal.Length  0.00000  7.932507   1.199642  7.7439389          \n",
              "Sepal.Width   0.00000 -4.353552   6.045472  0.4594941          \n",
              "Petal.Length 21.46074 28.317387  27.212581 31.8977233          \n",
              "Petal.Width  24.40923 32.490621  33.511254 36.6405675          \n",
              "             MeanDecreaseGini\n",
              "Sepal.Length  1.056822       \n",
              "Sepal.Width   1.454109       \n",
              "Petal.Length 27.833619       \n",
              "Petal.Width  35.590770       "
            ],
            "text/latex": "A matrix: 4 × 5 of type dbl\n\\begin{tabular}{r|lllll}\n  & setosa & versicolor & virginica & MeanDecreaseAccuracy & MeanDecreaseGini\\\\\n\\hline\n\tSepal.Length &  0.00000 &  7.932507 &  1.199642 &  7.7439389 &  1.056822\\\\\n\tSepal.Width &  0.00000 & -4.353552 &  6.045472 &  0.4594941 &  1.454109\\\\\n\tPetal.Length & 21.46074 & 28.317387 & 27.212581 & 31.8977233 & 27.833619\\\\\n\tPetal.Width & 24.40923 & 32.490621 & 33.511254 & 36.6405675 & 35.590770\\\\\n\\end{tabular}\n",
            "text/markdown": "\nA matrix: 4 × 5 of type dbl\n\n| <!--/--> | setosa | versicolor | virginica | MeanDecreaseAccuracy | MeanDecreaseGini |\n|---|---|---|---|---|---|\n| Sepal.Length |  0.00000 |  7.932507 |  1.199642 |  7.7439389 |  1.056822 |\n| Sepal.Width |  0.00000 | -4.353552 |  6.045472 |  0.4594941 |  1.454109 |\n| Petal.Length | 21.46074 | 28.317387 | 27.212581 | 31.8977233 | 27.833619 |\n| Petal.Width | 24.40923 | 32.490621 | 33.511254 | 36.6405675 | 35.590770 |\n\n",
            "text/html": [
              "<table class=\"dataframe\">\n",
              "<caption>A matrix: 4 × 5 of type dbl</caption>\n",
              "<thead>\n",
              "\t<tr><th></th><th scope=col>setosa</th><th scope=col>versicolor</th><th scope=col>virginica</th><th scope=col>MeanDecreaseAccuracy</th><th scope=col>MeanDecreaseGini</th></tr>\n",
              "</thead>\n",
              "<tbody>\n",
              "\t<tr><th scope=row>Sepal.Length</th><td> 0.00000</td><td> 7.932507</td><td> 1.199642</td><td> 7.7439389</td><td> 1.056822</td></tr>\n",
              "\t<tr><th scope=row>Sepal.Width</th><td> 0.00000</td><td>-4.353552</td><td> 6.045472</td><td> 0.4594941</td><td> 1.454109</td></tr>\n",
              "\t<tr><th scope=row>Petal.Length</th><td>21.46074</td><td>28.317387</td><td>27.212581</td><td>31.8977233</td><td>27.833619</td></tr>\n",
              "\t<tr><th scope=row>Petal.Width</th><td>24.40923</td><td>32.490621</td><td>33.511254</td><td>36.6405675</td><td>35.590770</td></tr>\n",
              "</tbody>\n",
              "</table>\n"
            ]
          },
          "metadata": {}
        },
        {
          "output_type": "display_data",
          "data": {
            "image/png": "[encoded data removed]",
            "text/plain": [
              "plot without title"
            ]
          },
          "metadata": {
            "image/png": {
              "width": 420,
              "height": 420
            }
          }
        }
      ]
    },
    {
      "cell_type": "markdown",
      "metadata": {
        "id": "1gwU23V9jf9R"
      },
      "source": [
        "Petal.Width가 가장 중요한 변수임을 알 수 있다."
      ]
    }
  ]
}